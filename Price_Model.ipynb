{
  "nbformat": 4,
  "nbformat_minor": 0,
  "metadata": {
    "colab": {
      "provenance": []
    },
    "kernelspec": {
      "name": "python3",
      "display_name": "Python 3"
    },
    "language_info": {
      "name": "python"
    }
  },
  "cells": [
    {
      "cell_type": "code",
      "execution_count": 1,
      "metadata": {
        "colab": {
          "base_uri": "https://localhost:8080/"
        },
        "id": "pdTdlcoMy-yL",
        "outputId": "e5995608-2aea-4c33-e312-fe884e05588d"
      },
      "outputs": [
        {
          "output_type": "stream",
          "name": "stdout",
          "text": [
            "Collecting pyspark\n",
            "  Downloading pyspark-3.4.1.tar.gz (310.8 MB)\n",
            "\u001b[2K     \u001b[90m━━━━━━━━━━━━━━━━━━━━━━━━━━━━━━━━━━━━━━━\u001b[0m \u001b[32m310.8/310.8 MB\u001b[0m \u001b[31m4.6 MB/s\u001b[0m eta \u001b[36m0:00:00\u001b[0m\n",
            "\u001b[?25h  Preparing metadata (setup.py) ... \u001b[?25l\u001b[?25hdone\n",
            "Requirement already satisfied: py4j==0.10.9.7 in /usr/local/lib/python3.10/dist-packages (from pyspark) (0.10.9.7)\n",
            "Building wheels for collected packages: pyspark\n",
            "  Building wheel for pyspark (setup.py) ... \u001b[?25l\u001b[?25hdone\n",
            "  Created wheel for pyspark: filename=pyspark-3.4.1-py2.py3-none-any.whl size=311285398 sha256=780c317f38dfc3a12435ecbbb083eed334992c417b70d8a29584e9b3d900e61d\n",
            "  Stored in directory: /root/.cache/pip/wheels/0d/77/a3/ff2f74cc9ab41f8f594dabf0579c2a7c6de920d584206e0834\n",
            "Successfully built pyspark\n",
            "Installing collected packages: pyspark\n",
            "Successfully installed pyspark-3.4.1\n"
          ]
        }
      ],
      "source": [
        "# Install Hadoop\n",
        "!pip install pyspark\n",
        "\n"
      ]
    },
    {
      "cell_type": "code",
      "source": [
        "# Import SparkSession\n",
        "from pyspark.sql import SparkSession\n",
        "from pyspark.conf import SparkConf\n",
        "from pyspark.ml import Pipeline\n",
        "from pyspark.ml.regression import DecisionTreeRegressor\n",
        "from pyspark.ml.feature import VectorIndexer\n",
        "from pyspark.ml.evaluation import RegressionEvaluator\n",
        "from pyspark.ml.feature import VectorAssembler"
      ],
      "metadata": {
        "id": "7Gq_gKsFzwEq"
      },
      "execution_count": 2,
      "outputs": []
    },
    {
      "cell_type": "code",
      "source": [
        "from pyspark.ml import Pipeline\n",
        "from pyspark.ml.regression import DecisionTreeRegressor\n",
        "from pyspark.ml.feature import VectorIndexer\n",
        "from pyspark.ml.evaluation import RegressionEvaluator\n",
        "from pyspark.ml.feature import VectorAssembler"
      ],
      "metadata": {
        "id": "Gpx6jG-FdDq0"
      },
      "execution_count": 3,
      "outputs": []
    },
    {
      "cell_type": "code",
      "source": [
        "# Create a Spark Session and configure Spark context\n",
        "spark=SparkSession.builder\\\n",
        "    .master(\"local[*]\")\\\n",
        "    .appName(\"WordCount\")\\\n",
        "    .getOrCreate()\n",
        "sc=spark.sparkContext\n"
      ],
      "metadata": {
        "id": "t5i7pQK5zy_D"
      },
      "execution_count": 4,
      "outputs": []
    },
    {
      "cell_type": "code",
      "source": [
        "#Mount (connect to) Google drive to be able to read from it (copy data files into HDFS)\n",
        "from google.colab import drive\n",
        "drive.mount('/content/drive')\n"
      ],
      "metadata": {
        "colab": {
          "base_uri": "https://localhost:8080/"
        },
        "id": "QRcKtzZRz-LX",
        "outputId": "1f216d02-7bfb-4ea5-e3c1-d39f681db304"
      },
      "execution_count": 5,
      "outputs": [
        {
          "output_type": "stream",
          "name": "stdout",
          "text": [
            "Mounted at /content/drive\n"
          ]
        }
      ]
    },
    {
      "cell_type": "code",
      "source": [
        "#reading the data\n",
        "df = spark.read.csv('/content/drive/My Drive/BOE/statistical_indicators.csv', header = True, inferSchema = True)"
      ],
      "metadata": {
        "id": "jARxC3Kc19rb"
      },
      "execution_count": 6,
      "outputs": []
    },
    {
      "cell_type": "code",
      "source": [
        "df.show()"
      ],
      "metadata": {
        "colab": {
          "base_uri": "https://localhost:8080/"
        },
        "id": "5uCSgk_Yi5wv",
        "outputId": "438d2ea8-3b7f-43d9-8de9-23c1f1366adf"
      },
      "execution_count": 13,
      "outputs": [
        {
          "output_type": "stream",
          "name": "stdout",
          "text": [
            "+--------------------+------------+----------------------------------------------------------+---------------------------------------------------------+-----------------------------------------------------------+---------------------------------------------+-----------------------------------------------+--------------------------------------------+-----------------------------------------------+-------------------------------------------------+----------------------------------------------+-----------------------+--------------------------+-----------------------------+--------------------------+-------------+-------------------------------+--------------------------+---------------------------------+----------------------------------------------+------------------------+------------------------------+--------------------------+\n",
            "|           Data_Zone|House_Prices|Travel_times_(minutes)_to_GP_surgeries_by_public_transport|Travel_times_(minutes)_to_post_office_by_public_transport|Travel_times_(minutes)_to_retail_centre_by_public_transport|Travel_times_(minutes)_to_GP_surgeries_by_car|Travel_times_(minutes)_to_petrol_station_by_car|Travel_times_(minutes)_to_post_office_by_car|Travel_times_(minutes)_to_primary_school_by_car|Travel_times_(minutes)_to_secondary_school_by_car|Travel_times_(minutes)_to_retail_centre_by_car|Land_area_(in_hectares)|Urban_Rural_Classification|Dwellings_per_hectare_(ratio)|Detached_dwellings_(ratio)|Flats_(ratio)|Semi-detached_dwellings_(ratio)|Terraced_dwellings_(ratio)|Dwellings_of_unknown_type_(ratio)|Households_with_single_adult_discounts_(ratio)|Crime_indicators_(ratio)|Employment_deprivation_(ratio)|Comparative_Illness_Factor|\n",
            "+--------------------+------------+----------------------------------------------------------+---------------------------------------------------------+-----------------------------------------------------------+---------------------------------------------+-----------------------------------------------+--------------------------------------------+-----------------------------------------------+-------------------------------------------------+----------------------------------------------+-----------------------+--------------------------+-----------------------------+--------------------------+-------------+-------------------------------+--------------------------+---------------------------------+----------------------------------------------+------------------------+------------------------------+--------------------------+\n",
            "|http://statistics...|      215003|                                                       8.4|                                                      6.0|                                                        5.7|                                          2.9|                                            2.4|                                         1.5|                                            2.0|                                             10.8|                                           1.5|                 438.88|                         3|                         1.05|                      26.2|         58.4|                           11.1|                       4.3|                              0.0|                                           172|                      89|                             7|                        60|\n",
            "|http://statistics...|      284539|                                                       8.3|                                                      7.3|                                                        6.8|                                          4.0|                                            3.7|                                         2.7|                                            3.1|                                             11.5|                                           2.7|                  22.35|                         3|                        16.51|                      23.0|         19.5|                           13.6|                      43.9|                              0.0|                                           120|                      48|                             5|                        40|\n",
            "|http://statistics...|      185767|                                                       7.9|                                                      5.8|                                                        5.3|                                          3.6|                                            3.2|                                         2.1|                                            2.7|                                             11.5|                                           1.9|                 27.019|                         3|                        12.88|                      13.5|         72.1|                            2.9|                      11.5|                              0.0|                                           132|                      58|                             3|                        45|\n",
            "|http://statistics...|      178700|                                                       7.4|                                                      8.3|                                                        8.4|                                          2.5|                                            2.5|                                         2.0|                                            1.4|                                             10.8|                                           2.2|                  9.625|                         3|                         29.3|                       9.2|         30.9|                           26.2|                      33.7|                              0.0|                                          null|                    null|                          null|                        65|\n",
            "|http://statistics...|      195236|                                                       5.1|                                                      6.6|                                                        6.6|                                          2.2|                                            2.1|                                         1.7|                                            1.5|                                             10.6|                                           1.9|                 18.008|                         3|                        17.77|                      12.2|         43.1|                           34.1|                      10.6|                              0.0|                                           115|                     178|                             7|                        75|\n",
            "|http://statistics...|      312437|                                                       4.5|                                                      7.4|                                                        7.3|                                          1.5|                                            1.3|                                         2.2|                                            1.8|                                              9.5|                                           2.4|                 40.049|                         3|                         7.94|                      29.9|          3.8|                           58.5|                       7.9|                              0.0|                                            74|                      38|                             3|                        50|\n",
            "|http://statistics...|        null|                                                      null|                                                     null|                                                       null|                                         null|                                           null|                                        null|                                           null|                                             null|                                          null|                   null|                      null|                         null|                      null|         null|                           null|                      null|                             null|                                          null|                    null|                          null|                      null|\n",
            "|http://statistics...|      310406|                                                      10.9|                                                     11.2|                                                       11.1|                                          4.2|                                            3.4|                                         4.6|                                            1.6|                                              7.1|                                           4.8|                 30.088|                         3|                         9.17|                      15.9|         23.2|                           56.5|                       4.3|                              0.0|                                          null|                    null|                          null|                        55|\n",
            "|http://statistics...|      386761|                                                       9.6|                                                     10.0|                                                        9.8|                                          3.4|                                            2.7|                                         3.8|                                            2.0|                                              8.0|                                           4.1|                 187.73|                         3|                         1.86|                      77.1|          1.7|                           21.1|                       0.0|                              0.0|                                            49|                      44|                             1|                        25|\n",
            "|http://statistics...|      385833|                                                      16.8|                                                     17.1|                                                       17.0|                                          5.1|                                            4.2|                                         5.4|                                            2.5|                                              7.7|                                           5.7|                 554.27|                         3|                         0.51|                      73.3|          1.4|                           23.8|                       1.4|                              0.0|                                            49|                      51|                             1|                        35|\n",
            "|http://statistics...|      795833|                                                       9.3|                                                     10.5|                                                       11.4|                                          3.9|                                            4.4|                                         5.3|                                            2.2|                                              7.1|                                           5.8|                159.343|                         3|                         1.23|                      68.9|          3.1|                           23.5|                       4.6|                              0.0|                                            40|                      87|                             3|                        30|\n",
            "|http://statistics...|      420224|                                                      12.4|                                                     12.2|                                                       20.5|                                          3.3|                                            5.9|                                         3.5|                                            4.3|                                              2.7|                                           8.8|               1044.454|                         1|                         0.41|                      69.4|          3.9|                           16.9|                       9.7|                              0.0|                                           100|                     154|                             4|                        40|\n",
            "|http://statistics...|      594727|                                                       9.7|                                                      8.7|                                                       13.1|                                          4.0|                                            6.2|                                         4.7|                                            4.7|                                              4.2|                                           7.6|                 51.923|                         1|                         4.93|                      85.9|          4.3|                            9.0|                       0.8|                              0.0|                                          null|                    null|                          null|                        20|\n",
            "|http://statistics...|      533273|                                                      13.3|                                                     12.3|                                                       18.2|                                          3.7|                                            6.9|                                         4.4|                                            3.6|                                              3.0|                                           8.3|                 30.402|                         1|                         9.37|                      93.7|          0.7|                            3.5|                       2.1|                              0.0|                                          null|                    null|                          null|                        30|\n",
            "|http://statistics...|      575051|                                                      16.5|                                                     15.7|                                                       21.2|                                          4.1|                                            6.9|                                         4.8|                                            4.6|                                              4.0|                                           8.3|                 20.064|                         1|                        11.36|                     100.0|          0.0|                            0.0|                       0.0|                              0.0|                                          null|                    null|                          null|                        10|\n",
            "|http://statistics...|      472500|                                                      15.6|                                                     12.8|                                                       22.9|                                          3.8|                                            4.3|                                         2.8|                                            3.8|                                              5.1|                                           6.8|                147.382|                         1|                         1.83|                      55.9|         11.1|                           15.9|                      17.0|                              0.0|                                            47|                      91|                             1|                        15|\n",
            "|http://statistics...|      457560|                                                      10.5|                                                      7.3|                                                       18.3|                                          3.6|                                            5.3|                                         2.1|                                            4.4|                                              4.2|                                           7.9|                  37.87|                         1|                         6.26|                      46.4|          3.0|                           50.2|                       0.4|                              0.0|                                          null|                    null|                          null|                        15|\n",
            "|http://statistics...|      280030|                                                       7.7|                                                      5.2|                                                       15.6|                                          2.7|                                            5.7|                                         1.8|                                            5.0|                                              3.8|                                           8.1|                 28.754|                         1|                        15.48|                      17.3|         43.8|                           33.5|                       5.4|                              0.0|                                           156|                      96|                             2|                        40|\n",
            "|http://statistics...|      475895|                                                       6.5|                                                      6.1|                                                       13.7|                                          2.4|                                            6.4|                                         2.9|                                            4.8|                                              3.9|                                           8.0|                175.171|                         1|                         2.89|                      48.8|         36.0|                           11.7|                       3.6|                              0.0|                                           154|                      79|                            11|                        85|\n",
            "|http://statistics...|      415824|                                                       8.1|                                                      6.9|                                                       14.4|                                          2.5|                                            7.0|                                         3.2|                                            3.5|                                              2.5|                                           8.2|                 35.944|                         1|                        11.13|                      44.5|         23.0|                           14.0|                      18.5|                              0.0|                                          null|                    null|                          null|                        50|\n",
            "+--------------------+------------+----------------------------------------------------------+---------------------------------------------------------+-----------------------------------------------------------+---------------------------------------------+-----------------------------------------------+--------------------------------------------+-----------------------------------------------+-------------------------------------------------+----------------------------------------------+-----------------------+--------------------------+-----------------------------+--------------------------+-------------+-------------------------------+--------------------------+---------------------------------+----------------------------------------------+------------------------+------------------------------+--------------------------+\n",
            "only showing top 20 rows\n",
            "\n"
          ]
        }
      ]
    },
    {
      "cell_type": "markdown",
      "source": [
        "Pre-Processing the Data"
      ],
      "metadata": {
        "id": "4xH85VjxkZzi"
      }
    },
    {
      "cell_type": "code",
      "source": [
        "#dropping the columns that are not needed\n",
        "columns_to_drop = [\"Data_Zone\", \"Urban_Rural_Classification\"]\n",
        "df = df.drop(*columns_to_drop)\n",
        "\n",
        "df.show()"
      ],
      "metadata": {
        "colab": {
          "base_uri": "https://localhost:8080/"
        },
        "id": "CRJbXw_ijyfk",
        "outputId": "fbfc3798-e3c4-45a1-f79d-49135b2f13ea"
      },
      "execution_count": 7,
      "outputs": [
        {
          "output_type": "stream",
          "name": "stdout",
          "text": [
            "+------------+----------------------------------------------------------+---------------------------------------------------------+-----------------------------------------------------------+---------------------------------------------+-----------------------------------------------+--------------------------------------------+-----------------------------------------------+-------------------------------------------------+----------------------------------------------+-----------------------+-----------------------------+--------------------------+-------------+-------------------------------+--------------------------+---------------------------------+----------------------------------------------+------------------------+------------------------------+--------------------------+\n",
            "|House_Prices|Travel_times_(minutes)_to_GP_surgeries_by_public_transport|Travel_times_(minutes)_to_post_office_by_public_transport|Travel_times_(minutes)_to_retail_centre_by_public_transport|Travel_times_(minutes)_to_GP_surgeries_by_car|Travel_times_(minutes)_to_petrol_station_by_car|Travel_times_(minutes)_to_post_office_by_car|Travel_times_(minutes)_to_primary_school_by_car|Travel_times_(minutes)_to_secondary_school_by_car|Travel_times_(minutes)_to_retail_centre_by_car|Land_area_(in_hectares)|Dwellings_per_hectare_(ratio)|Detached_dwellings_(ratio)|Flats_(ratio)|Semi-detached_dwellings_(ratio)|Terraced_dwellings_(ratio)|Dwellings_of_unknown_type_(ratio)|Households_with_single_adult_discounts_(ratio)|Crime_indicators_(ratio)|Employment_deprivation_(ratio)|Comparative_Illness_Factor|\n",
            "+------------+----------------------------------------------------------+---------------------------------------------------------+-----------------------------------------------------------+---------------------------------------------+-----------------------------------------------+--------------------------------------------+-----------------------------------------------+-------------------------------------------------+----------------------------------------------+-----------------------+-----------------------------+--------------------------+-------------+-------------------------------+--------------------------+---------------------------------+----------------------------------------------+------------------------+------------------------------+--------------------------+\n",
            "|      215003|                                                       8.4|                                                      6.0|                                                        5.7|                                          2.9|                                            2.4|                                         1.5|                                            2.0|                                             10.8|                                           1.5|                 438.88|                         1.05|                      26.2|         58.4|                           11.1|                       4.3|                              0.0|                                           172|                      89|                             7|                        60|\n",
            "|      284539|                                                       8.3|                                                      7.3|                                                        6.8|                                          4.0|                                            3.7|                                         2.7|                                            3.1|                                             11.5|                                           2.7|                  22.35|                        16.51|                      23.0|         19.5|                           13.6|                      43.9|                              0.0|                                           120|                      48|                             5|                        40|\n",
            "|      185767|                                                       7.9|                                                      5.8|                                                        5.3|                                          3.6|                                            3.2|                                         2.1|                                            2.7|                                             11.5|                                           1.9|                 27.019|                        12.88|                      13.5|         72.1|                            2.9|                      11.5|                              0.0|                                           132|                      58|                             3|                        45|\n",
            "|      178700|                                                       7.4|                                                      8.3|                                                        8.4|                                          2.5|                                            2.5|                                         2.0|                                            1.4|                                             10.8|                                           2.2|                  9.625|                         29.3|                       9.2|         30.9|                           26.2|                      33.7|                              0.0|                                          null|                    null|                          null|                        65|\n",
            "|      195236|                                                       5.1|                                                      6.6|                                                        6.6|                                          2.2|                                            2.1|                                         1.7|                                            1.5|                                             10.6|                                           1.9|                 18.008|                        17.77|                      12.2|         43.1|                           34.1|                      10.6|                              0.0|                                           115|                     178|                             7|                        75|\n",
            "|      312437|                                                       4.5|                                                      7.4|                                                        7.3|                                          1.5|                                            1.3|                                         2.2|                                            1.8|                                              9.5|                                           2.4|                 40.049|                         7.94|                      29.9|          3.8|                           58.5|                       7.9|                              0.0|                                            74|                      38|                             3|                        50|\n",
            "|        null|                                                      null|                                                     null|                                                       null|                                         null|                                           null|                                        null|                                           null|                                             null|                                          null|                   null|                         null|                      null|         null|                           null|                      null|                             null|                                          null|                    null|                          null|                      null|\n",
            "|      310406|                                                      10.9|                                                     11.2|                                                       11.1|                                          4.2|                                            3.4|                                         4.6|                                            1.6|                                              7.1|                                           4.8|                 30.088|                         9.17|                      15.9|         23.2|                           56.5|                       4.3|                              0.0|                                          null|                    null|                          null|                        55|\n",
            "|      386761|                                                       9.6|                                                     10.0|                                                        9.8|                                          3.4|                                            2.7|                                         3.8|                                            2.0|                                              8.0|                                           4.1|                 187.73|                         1.86|                      77.1|          1.7|                           21.1|                       0.0|                              0.0|                                            49|                      44|                             1|                        25|\n",
            "|      385833|                                                      16.8|                                                     17.1|                                                       17.0|                                          5.1|                                            4.2|                                         5.4|                                            2.5|                                              7.7|                                           5.7|                 554.27|                         0.51|                      73.3|          1.4|                           23.8|                       1.4|                              0.0|                                            49|                      51|                             1|                        35|\n",
            "|      795833|                                                       9.3|                                                     10.5|                                                       11.4|                                          3.9|                                            4.4|                                         5.3|                                            2.2|                                              7.1|                                           5.8|                159.343|                         1.23|                      68.9|          3.1|                           23.5|                       4.6|                              0.0|                                            40|                      87|                             3|                        30|\n",
            "|      420224|                                                      12.4|                                                     12.2|                                                       20.5|                                          3.3|                                            5.9|                                         3.5|                                            4.3|                                              2.7|                                           8.8|               1044.454|                         0.41|                      69.4|          3.9|                           16.9|                       9.7|                              0.0|                                           100|                     154|                             4|                        40|\n",
            "|      594727|                                                       9.7|                                                      8.7|                                                       13.1|                                          4.0|                                            6.2|                                         4.7|                                            4.7|                                              4.2|                                           7.6|                 51.923|                         4.93|                      85.9|          4.3|                            9.0|                       0.8|                              0.0|                                          null|                    null|                          null|                        20|\n",
            "|      533273|                                                      13.3|                                                     12.3|                                                       18.2|                                          3.7|                                            6.9|                                         4.4|                                            3.6|                                              3.0|                                           8.3|                 30.402|                         9.37|                      93.7|          0.7|                            3.5|                       2.1|                              0.0|                                          null|                    null|                          null|                        30|\n",
            "|      575051|                                                      16.5|                                                     15.7|                                                       21.2|                                          4.1|                                            6.9|                                         4.8|                                            4.6|                                              4.0|                                           8.3|                 20.064|                        11.36|                     100.0|          0.0|                            0.0|                       0.0|                              0.0|                                          null|                    null|                          null|                        10|\n",
            "|      472500|                                                      15.6|                                                     12.8|                                                       22.9|                                          3.8|                                            4.3|                                         2.8|                                            3.8|                                              5.1|                                           6.8|                147.382|                         1.83|                      55.9|         11.1|                           15.9|                      17.0|                              0.0|                                            47|                      91|                             1|                        15|\n",
            "|      457560|                                                      10.5|                                                      7.3|                                                       18.3|                                          3.6|                                            5.3|                                         2.1|                                            4.4|                                              4.2|                                           7.9|                  37.87|                         6.26|                      46.4|          3.0|                           50.2|                       0.4|                              0.0|                                          null|                    null|                          null|                        15|\n",
            "|      280030|                                                       7.7|                                                      5.2|                                                       15.6|                                          2.7|                                            5.7|                                         1.8|                                            5.0|                                              3.8|                                           8.1|                 28.754|                        15.48|                      17.3|         43.8|                           33.5|                       5.4|                              0.0|                                           156|                      96|                             2|                        40|\n",
            "|      475895|                                                       6.5|                                                      6.1|                                                       13.7|                                          2.4|                                            6.4|                                         2.9|                                            4.8|                                              3.9|                                           8.0|                175.171|                         2.89|                      48.8|         36.0|                           11.7|                       3.6|                              0.0|                                           154|                      79|                            11|                        85|\n",
            "|      415824|                                                       8.1|                                                      6.9|                                                       14.4|                                          2.5|                                            7.0|                                         3.2|                                            3.5|                                              2.5|                                           8.2|                 35.944|                        11.13|                      44.5|         23.0|                           14.0|                      18.5|                              0.0|                                          null|                    null|                          null|                        50|\n",
            "+------------+----------------------------------------------------------+---------------------------------------------------------+-----------------------------------------------------------+---------------------------------------------+-----------------------------------------------+--------------------------------------------+-----------------------------------------------+-------------------------------------------------+----------------------------------------------+-----------------------+-----------------------------+--------------------------+-------------+-------------------------------+--------------------------+---------------------------------+----------------------------------------------+------------------------+------------------------------+--------------------------+\n",
            "only showing top 20 rows\n",
            "\n"
          ]
        }
      ]
    },
    {
      "cell_type": "code",
      "source": [
        "df"
      ],
      "metadata": {
        "colab": {
          "base_uri": "https://localhost:8080/"
        },
        "id": "-DUMc9dJmMYW",
        "outputId": "5024920d-4963-4907-98af-9e9e3e833e4a"
      },
      "execution_count": 21,
      "outputs": [
        {
          "output_type": "execute_result",
          "data": {
            "text/plain": [
              "DataFrame[House_Prices: int, Travel_times_(minutes)_to_GP_surgeries_by_public_transport: double, Travel_times_(minutes)_to_post_office_by_public_transport: double, Travel_times_(minutes)_to_retail_centre_by_public_transport: double, Travel_times_(minutes)_to_GP_surgeries_by_car: double, Travel_times_(minutes)_to_petrol_station_by_car: double, Travel_times_(minutes)_to_post_office_by_car: double, Travel_times_(minutes)_to_primary_school_by_car: double, Travel_times_(minutes)_to_secondary_school_by_car: double, Travel_times_(minutes)_to_retail_centre_by_car: double, Land_area_(in_hectares): double, Dwellings_per_hectare_(ratio): double, Detached_dwellings_(ratio): double, Flats_(ratio): double, Semi-detached_dwellings_(ratio): double, Terraced_dwellings_(ratio): double, Dwellings_of_unknown_type_(ratio): double, Households_with_single_adult_discounts_(ratio): int, Crime_indicators_(ratio): int, Employment_deprivation_(ratio): int, Comparative_Illness_Factor: int]"
            ]
          },
          "metadata": {},
          "execution_count": 21
        }
      ]
    },
    {
      "cell_type": "code",
      "source": [
        "#checking for missing values\n",
        "from pyspark.sql import SparkSession\n",
        "from pyspark.sql.functions import col, count\n",
        "\n",
        "# Create a SparkSession (the entry point to PySpark)\n",
        "spark = SparkSession.builder.appName(\"CountMissingValues\").getOrCreate()\n",
        "missing_value_counts = df.agg(*[count(col(c)).alias(c) for c in df.columns])\n",
        "\n",
        "# Show the missing value counts\n",
        "missing_value_counts.show()\n",
        "\n",
        "# Sum the counts to get the total count of missing values in the DataFrame\n",
        "total_missing_values = sum(missing_value_counts.collect()[0])\n",
        "\n",
        "print(\"Total missing values in the DataFrame:\", total_missing_values)"
      ],
      "metadata": {
        "colab": {
          "base_uri": "https://localhost:8080/"
        },
        "id": "lOYmqDTrnECE",
        "outputId": "f0fcade7-2ea6-4884-977d-6e1d64d081e1"
      },
      "execution_count": 8,
      "outputs": [
        {
          "output_type": "stream",
          "name": "stdout",
          "text": [
            "+------------+----------------------------------------------------------+---------------------------------------------------------+-----------------------------------------------------------+---------------------------------------------+-----------------------------------------------+--------------------------------------------+-----------------------------------------------+-------------------------------------------------+----------------------------------------------+-----------------------+-----------------------------+--------------------------+-------------+-------------------------------+--------------------------+---------------------------------+----------------------------------------------+------------------------+------------------------------+--------------------------+\n",
            "|House_Prices|Travel_times_(minutes)_to_GP_surgeries_by_public_transport|Travel_times_(minutes)_to_post_office_by_public_transport|Travel_times_(minutes)_to_retail_centre_by_public_transport|Travel_times_(minutes)_to_GP_surgeries_by_car|Travel_times_(minutes)_to_petrol_station_by_car|Travel_times_(minutes)_to_post_office_by_car|Travel_times_(minutes)_to_primary_school_by_car|Travel_times_(minutes)_to_secondary_school_by_car|Travel_times_(minutes)_to_retail_centre_by_car|Land_area_(in_hectares)|Dwellings_per_hectare_(ratio)|Detached_dwellings_(ratio)|Flats_(ratio)|Semi-detached_dwellings_(ratio)|Terraced_dwellings_(ratio)|Dwellings_of_unknown_type_(ratio)|Households_with_single_adult_discounts_(ratio)|Crime_indicators_(ratio)|Employment_deprivation_(ratio)|Comparative_Illness_Factor|\n",
            "+------------+----------------------------------------------------------+---------------------------------------------------------+-----------------------------------------------------------+---------------------------------------------+-----------------------------------------------+--------------------------------------------+-----------------------------------------------+-------------------------------------------------+----------------------------------------------+-----------------------+-----------------------------+--------------------------+-------------+-------------------------------+--------------------------+---------------------------------+----------------------------------------------+------------------------+------------------------------+--------------------------+\n",
            "|        6014|                                                      6014|                                                     6014|                                                       6014|                                         6014|                                           6014|                                        6014|                                           6014|                                             6014|                                          6014|                   6014|                         6014|                      6014|         6014|                           6014|                      6014|                             6014|                                          5622|                    5622|                          5622|                      6014|\n",
            "+------------+----------------------------------------------------------+---------------------------------------------------------+-----------------------------------------------------------+---------------------------------------------+-----------------------------------------------+--------------------------------------------+-----------------------------------------------+-------------------------------------------------+----------------------------------------------+-----------------------+-----------------------------+--------------------------+-------------+-------------------------------+--------------------------+---------------------------------+----------------------------------------------+------------------------+------------------------------+--------------------------+\n",
            "\n",
            "Total missing values in the DataFrame: 125118\n"
          ]
        }
      ]
    },
    {
      "cell_type": "code",
      "source": [
        "#removing blank rows from the dataset for all the columns based on the blank values in house prices\n",
        "spark = SparkSession.builder.appName(\"FilterNullValues\").getOrCreate()\n",
        "\n",
        "\n",
        "# Filter out rows containing null values in the 'House_Prices' column\n",
        "df_noNA = df.dropna(subset=[\"House_Prices\"])\n",
        "\n",
        "# Show the DataFrame after filtering\n",
        "df_noNA.show()\n",
        "\n",
        "df_noNA.count()\n",
        "\n"
      ],
      "metadata": {
        "colab": {
          "base_uri": "https://localhost:8080/"
        },
        "id": "WkG6LX4_o7qI",
        "outputId": "132149b4-9240-4f2a-bc85-fbae416cd87b"
      },
      "execution_count": 9,
      "outputs": [
        {
          "output_type": "stream",
          "name": "stdout",
          "text": [
            "+------------+----------------------------------------------------------+---------------------------------------------------------+-----------------------------------------------------------+---------------------------------------------+-----------------------------------------------+--------------------------------------------+-----------------------------------------------+-------------------------------------------------+----------------------------------------------+-----------------------+-----------------------------+--------------------------+-------------+-------------------------------+--------------------------+---------------------------------+----------------------------------------------+------------------------+------------------------------+--------------------------+\n",
            "|House_Prices|Travel_times_(minutes)_to_GP_surgeries_by_public_transport|Travel_times_(minutes)_to_post_office_by_public_transport|Travel_times_(minutes)_to_retail_centre_by_public_transport|Travel_times_(minutes)_to_GP_surgeries_by_car|Travel_times_(minutes)_to_petrol_station_by_car|Travel_times_(minutes)_to_post_office_by_car|Travel_times_(minutes)_to_primary_school_by_car|Travel_times_(minutes)_to_secondary_school_by_car|Travel_times_(minutes)_to_retail_centre_by_car|Land_area_(in_hectares)|Dwellings_per_hectare_(ratio)|Detached_dwellings_(ratio)|Flats_(ratio)|Semi-detached_dwellings_(ratio)|Terraced_dwellings_(ratio)|Dwellings_of_unknown_type_(ratio)|Households_with_single_adult_discounts_(ratio)|Crime_indicators_(ratio)|Employment_deprivation_(ratio)|Comparative_Illness_Factor|\n",
            "+------------+----------------------------------------------------------+---------------------------------------------------------+-----------------------------------------------------------+---------------------------------------------+-----------------------------------------------+--------------------------------------------+-----------------------------------------------+-------------------------------------------------+----------------------------------------------+-----------------------+-----------------------------+--------------------------+-------------+-------------------------------+--------------------------+---------------------------------+----------------------------------------------+------------------------+------------------------------+--------------------------+\n",
            "|      215003|                                                       8.4|                                                      6.0|                                                        5.7|                                          2.9|                                            2.4|                                         1.5|                                            2.0|                                             10.8|                                           1.5|                 438.88|                         1.05|                      26.2|         58.4|                           11.1|                       4.3|                              0.0|                                           172|                      89|                             7|                        60|\n",
            "|      284539|                                                       8.3|                                                      7.3|                                                        6.8|                                          4.0|                                            3.7|                                         2.7|                                            3.1|                                             11.5|                                           2.7|                  22.35|                        16.51|                      23.0|         19.5|                           13.6|                      43.9|                              0.0|                                           120|                      48|                             5|                        40|\n",
            "|      185767|                                                       7.9|                                                      5.8|                                                        5.3|                                          3.6|                                            3.2|                                         2.1|                                            2.7|                                             11.5|                                           1.9|                 27.019|                        12.88|                      13.5|         72.1|                            2.9|                      11.5|                              0.0|                                           132|                      58|                             3|                        45|\n",
            "|      178700|                                                       7.4|                                                      8.3|                                                        8.4|                                          2.5|                                            2.5|                                         2.0|                                            1.4|                                             10.8|                                           2.2|                  9.625|                         29.3|                       9.2|         30.9|                           26.2|                      33.7|                              0.0|                                          null|                    null|                          null|                        65|\n",
            "|      195236|                                                       5.1|                                                      6.6|                                                        6.6|                                          2.2|                                            2.1|                                         1.7|                                            1.5|                                             10.6|                                           1.9|                 18.008|                        17.77|                      12.2|         43.1|                           34.1|                      10.6|                              0.0|                                           115|                     178|                             7|                        75|\n",
            "|      312437|                                                       4.5|                                                      7.4|                                                        7.3|                                          1.5|                                            1.3|                                         2.2|                                            1.8|                                              9.5|                                           2.4|                 40.049|                         7.94|                      29.9|          3.8|                           58.5|                       7.9|                              0.0|                                            74|                      38|                             3|                        50|\n",
            "|      310406|                                                      10.9|                                                     11.2|                                                       11.1|                                          4.2|                                            3.4|                                         4.6|                                            1.6|                                              7.1|                                           4.8|                 30.088|                         9.17|                      15.9|         23.2|                           56.5|                       4.3|                              0.0|                                          null|                    null|                          null|                        55|\n",
            "|      386761|                                                       9.6|                                                     10.0|                                                        9.8|                                          3.4|                                            2.7|                                         3.8|                                            2.0|                                              8.0|                                           4.1|                 187.73|                         1.86|                      77.1|          1.7|                           21.1|                       0.0|                              0.0|                                            49|                      44|                             1|                        25|\n",
            "|      385833|                                                      16.8|                                                     17.1|                                                       17.0|                                          5.1|                                            4.2|                                         5.4|                                            2.5|                                              7.7|                                           5.7|                 554.27|                         0.51|                      73.3|          1.4|                           23.8|                       1.4|                              0.0|                                            49|                      51|                             1|                        35|\n",
            "|      795833|                                                       9.3|                                                     10.5|                                                       11.4|                                          3.9|                                            4.4|                                         5.3|                                            2.2|                                              7.1|                                           5.8|                159.343|                         1.23|                      68.9|          3.1|                           23.5|                       4.6|                              0.0|                                            40|                      87|                             3|                        30|\n",
            "|      420224|                                                      12.4|                                                     12.2|                                                       20.5|                                          3.3|                                            5.9|                                         3.5|                                            4.3|                                              2.7|                                           8.8|               1044.454|                         0.41|                      69.4|          3.9|                           16.9|                       9.7|                              0.0|                                           100|                     154|                             4|                        40|\n",
            "|      594727|                                                       9.7|                                                      8.7|                                                       13.1|                                          4.0|                                            6.2|                                         4.7|                                            4.7|                                              4.2|                                           7.6|                 51.923|                         4.93|                      85.9|          4.3|                            9.0|                       0.8|                              0.0|                                          null|                    null|                          null|                        20|\n",
            "|      533273|                                                      13.3|                                                     12.3|                                                       18.2|                                          3.7|                                            6.9|                                         4.4|                                            3.6|                                              3.0|                                           8.3|                 30.402|                         9.37|                      93.7|          0.7|                            3.5|                       2.1|                              0.0|                                          null|                    null|                          null|                        30|\n",
            "|      575051|                                                      16.5|                                                     15.7|                                                       21.2|                                          4.1|                                            6.9|                                         4.8|                                            4.6|                                              4.0|                                           8.3|                 20.064|                        11.36|                     100.0|          0.0|                            0.0|                       0.0|                              0.0|                                          null|                    null|                          null|                        10|\n",
            "|      472500|                                                      15.6|                                                     12.8|                                                       22.9|                                          3.8|                                            4.3|                                         2.8|                                            3.8|                                              5.1|                                           6.8|                147.382|                         1.83|                      55.9|         11.1|                           15.9|                      17.0|                              0.0|                                            47|                      91|                             1|                        15|\n",
            "|      457560|                                                      10.5|                                                      7.3|                                                       18.3|                                          3.6|                                            5.3|                                         2.1|                                            4.4|                                              4.2|                                           7.9|                  37.87|                         6.26|                      46.4|          3.0|                           50.2|                       0.4|                              0.0|                                          null|                    null|                          null|                        15|\n",
            "|      280030|                                                       7.7|                                                      5.2|                                                       15.6|                                          2.7|                                            5.7|                                         1.8|                                            5.0|                                              3.8|                                           8.1|                 28.754|                        15.48|                      17.3|         43.8|                           33.5|                       5.4|                              0.0|                                           156|                      96|                             2|                        40|\n",
            "|      475895|                                                       6.5|                                                      6.1|                                                       13.7|                                          2.4|                                            6.4|                                         2.9|                                            4.8|                                              3.9|                                           8.0|                175.171|                         2.89|                      48.8|         36.0|                           11.7|                       3.6|                              0.0|                                           154|                      79|                            11|                        85|\n",
            "|      415824|                                                       8.1|                                                      6.9|                                                       14.4|                                          2.5|                                            7.0|                                         3.2|                                            3.5|                                              2.5|                                           8.2|                 35.944|                        11.13|                      44.5|         23.0|                           14.0|                      18.5|                              0.0|                                          null|                    null|                          null|                        50|\n",
            "|      163529|                                                       9.2|                                                      9.9|                                                       13.6|                                          3.0|                                            3.9|                                         3.1|                                            3.6|                                              7.7|                                           5.1|                 11.193|                        39.94|                       0.0|         50.8|                            6.7|                      42.5|                              0.0|                                           190|                     110|                             9|                        95|\n",
            "+------------+----------------------------------------------------------+---------------------------------------------------------+-----------------------------------------------------------+---------------------------------------------+-----------------------------------------------+--------------------------------------------+-----------------------------------------------+-------------------------------------------------+----------------------------------------------+-----------------------+-----------------------------+--------------------------+-------------+-------------------------------+--------------------------+---------------------------------+----------------------------------------------+------------------------+------------------------------+--------------------------+\n",
            "only showing top 20 rows\n",
            "\n"
          ]
        },
        {
          "output_type": "execute_result",
          "data": {
            "text/plain": [
              "6014"
            ]
          },
          "metadata": {},
          "execution_count": 9
        }
      ]
    },
    {
      "cell_type": "code",
      "source": [
        "missing_value_counts.show()\n",
        "\n",
        "# Sum the counts to get the total count of missing values in the DataFrame\n",
        "total_missing_values = sum(missing_value_counts.collect()[0])\n",
        "\n",
        "print(\"Total missing values in the DataFrame:\", total_missing_values)"
      ],
      "metadata": {
        "colab": {
          "base_uri": "https://localhost:8080/"
        },
        "id": "4BgdR3qeqe4h",
        "outputId": "ad96e77f-62e8-4242-bbd0-88f4e4c2314f"
      },
      "execution_count": 10,
      "outputs": [
        {
          "output_type": "stream",
          "name": "stdout",
          "text": [
            "+------------+----------------------------------------------------------+---------------------------------------------------------+-----------------------------------------------------------+---------------------------------------------+-----------------------------------------------+--------------------------------------------+-----------------------------------------------+-------------------------------------------------+----------------------------------------------+-----------------------+-----------------------------+--------------------------+-------------+-------------------------------+--------------------------+---------------------------------+----------------------------------------------+------------------------+------------------------------+--------------------------+\n",
            "|House_Prices|Travel_times_(minutes)_to_GP_surgeries_by_public_transport|Travel_times_(minutes)_to_post_office_by_public_transport|Travel_times_(minutes)_to_retail_centre_by_public_transport|Travel_times_(minutes)_to_GP_surgeries_by_car|Travel_times_(minutes)_to_petrol_station_by_car|Travel_times_(minutes)_to_post_office_by_car|Travel_times_(minutes)_to_primary_school_by_car|Travel_times_(minutes)_to_secondary_school_by_car|Travel_times_(minutes)_to_retail_centre_by_car|Land_area_(in_hectares)|Dwellings_per_hectare_(ratio)|Detached_dwellings_(ratio)|Flats_(ratio)|Semi-detached_dwellings_(ratio)|Terraced_dwellings_(ratio)|Dwellings_of_unknown_type_(ratio)|Households_with_single_adult_discounts_(ratio)|Crime_indicators_(ratio)|Employment_deprivation_(ratio)|Comparative_Illness_Factor|\n",
            "+------------+----------------------------------------------------------+---------------------------------------------------------+-----------------------------------------------------------+---------------------------------------------+-----------------------------------------------+--------------------------------------------+-----------------------------------------------+-------------------------------------------------+----------------------------------------------+-----------------------+-----------------------------+--------------------------+-------------+-------------------------------+--------------------------+---------------------------------+----------------------------------------------+------------------------+------------------------------+--------------------------+\n",
            "|        6014|                                                      6014|                                                     6014|                                                       6014|                                         6014|                                           6014|                                        6014|                                           6014|                                             6014|                                          6014|                   6014|                         6014|                      6014|         6014|                           6014|                      6014|                             6014|                                          5622|                    5622|                          5622|                      6014|\n",
            "+------------+----------------------------------------------------------+---------------------------------------------------------+-----------------------------------------------------------+---------------------------------------------+-----------------------------------------------+--------------------------------------------+-----------------------------------------------+-------------------------------------------------+----------------------------------------------+-----------------------+-----------------------------+--------------------------+-------------+-------------------------------+--------------------------+---------------------------------+----------------------------------------------+------------------------+------------------------------+--------------------------+\n",
            "\n",
            "Total missing values in the DataFrame: 125118\n"
          ]
        }
      ]
    },
    {
      "cell_type": "code",
      "source": [
        "print(df_noNA)"
      ],
      "metadata": {
        "colab": {
          "base_uri": "https://localhost:8080/"
        },
        "id": "8_LFLUPwuLI1",
        "outputId": "a87c3a01-13e5-4a46-8fc1-e635348be7ec"
      },
      "execution_count": 47,
      "outputs": [
        {
          "output_type": "stream",
          "name": "stdout",
          "text": [
            "DataFrame[House_Prices: int, Travel_times_(minutes)_to_GP_surgeries_by_public_transport: double, Travel_times_(minutes)_to_post_office_by_public_transport: double, Travel_times_(minutes)_to_retail_centre_by_public_transport: double, Travel_times_(minutes)_to_GP_surgeries_by_car: double, Travel_times_(minutes)_to_petrol_station_by_car: double, Travel_times_(minutes)_to_post_office_by_car: double, Travel_times_(minutes)_to_primary_school_by_car: double, Travel_times_(minutes)_to_secondary_school_by_car: double, Travel_times_(minutes)_to_retail_centre_by_car: double, Land_area_(in_hectares): double, Dwellings_per_hectare_(ratio): double, Detached_dwellings_(ratio): double, Flats_(ratio): double, Semi-detached_dwellings_(ratio): double, Terraced_dwellings_(ratio): double, Dwellings_of_unknown_type_(ratio): double, Households_with_single_adult_discounts_(ratio): int, Crime_indicators_(ratio): int, Employment_deprivation_(ratio): int, Comparative_Illness_Factor: int]\n"
          ]
        }
      ]
    },
    {
      "cell_type": "code",
      "source": [
        "from pyspark.sql.functions import col, when, median\n",
        "\n",
        "# Create a SparkSession (the entry point to PySpark)\n",
        "spark = SparkSession.builder.appName(\"ReplaceNullWithMedian\").getOrCreate()\n",
        "\n",
        "\n",
        "# Specify the column for which you want to replace null values with the median\n",
        "column_to_impute_1 = \"Households_with_single_adult_discounts_(ratio)\"\n",
        "\n",
        "# Calculate the median value for the specified column\n",
        "median_value = df_noNA.select(median(col(column_to_impute_1))).first()[0]\n",
        "\n",
        "# Replace null values in the specified column with the median value\n",
        "df_noNA = df_noNA.withColumn(column_to_impute_1, when(col(column_to_impute_1).isNull(), median_value).otherwise(col(column_to_impute_1)))\n",
        "\n",
        "\n",
        "# Specify the column for which you want to replace null values with the median\n",
        "column_to_impute_2 = \"Crime_indicators_(ratio)\"\n",
        "\n",
        "# Calculate the median value for the specified column\n",
        "median_value = df_noNA.select(median(col(column_to_impute_2))).first()[0]\n",
        "\n",
        "# Replace null values in the specified column with the median value\n",
        "df_noNA = df_noNA.withColumn(column_to_impute_2, when(col(column_to_impute_2).isNull(), median_value).otherwise(col(column_to_impute_2)))\n",
        "\n",
        "# Specify the column for which you want to replace null values with the median\n",
        "column_to_impute_3 = \"Employment_deprivation_(ratio)\"\n",
        "\n",
        "# Calculate the median value for the specified column\n",
        "median_value = df_noNA.select(median(col(column_to_impute_3))).first()[0]\n",
        "\n",
        "# Replace null values in the specified column with the median value\n",
        "df_noNA = df_noNA.withColumn(column_to_impute_3, when(col(column_to_impute_3).isNull(), median_value).otherwise(col(column_to_impute_3)))\n",
        "\n",
        "\n",
        "# Show the DataFrame after replacing null values with the median\n",
        "df_noNA.show()\n",
        "\n"
      ],
      "metadata": {
        "colab": {
          "base_uri": "https://localhost:8080/"
        },
        "id": "Xa5aKnxXtK9S",
        "outputId": "783663cf-89e5-4805-ec89-a21c0b1b10c6"
      },
      "execution_count": 11,
      "outputs": [
        {
          "output_type": "stream",
          "name": "stdout",
          "text": [
            "+------------+----------------------------------------------------------+---------------------------------------------------------+-----------------------------------------------------------+---------------------------------------------+-----------------------------------------------+--------------------------------------------+-----------------------------------------------+-------------------------------------------------+----------------------------------------------+-----------------------+-----------------------------+--------------------------+-------------+-------------------------------+--------------------------+---------------------------------+----------------------------------------------+------------------------+------------------------------+--------------------------+\n",
            "|House_Prices|Travel_times_(minutes)_to_GP_surgeries_by_public_transport|Travel_times_(minutes)_to_post_office_by_public_transport|Travel_times_(minutes)_to_retail_centre_by_public_transport|Travel_times_(minutes)_to_GP_surgeries_by_car|Travel_times_(minutes)_to_petrol_station_by_car|Travel_times_(minutes)_to_post_office_by_car|Travel_times_(minutes)_to_primary_school_by_car|Travel_times_(minutes)_to_secondary_school_by_car|Travel_times_(minutes)_to_retail_centre_by_car|Land_area_(in_hectares)|Dwellings_per_hectare_(ratio)|Detached_dwellings_(ratio)|Flats_(ratio)|Semi-detached_dwellings_(ratio)|Terraced_dwellings_(ratio)|Dwellings_of_unknown_type_(ratio)|Households_with_single_adult_discounts_(ratio)|Crime_indicators_(ratio)|Employment_deprivation_(ratio)|Comparative_Illness_Factor|\n",
            "+------------+----------------------------------------------------------+---------------------------------------------------------+-----------------------------------------------------------+---------------------------------------------+-----------------------------------------------+--------------------------------------------+-----------------------------------------------+-------------------------------------------------+----------------------------------------------+-----------------------+-----------------------------+--------------------------+-------------+-------------------------------+--------------------------+---------------------------------+----------------------------------------------+------------------------+------------------------------+--------------------------+\n",
            "|      215003|                                                       8.4|                                                      6.0|                                                        5.7|                                          2.9|                                            2.4|                                         1.5|                                            2.0|                                             10.8|                                           1.5|                 438.88|                         1.05|                      26.2|         58.4|                           11.1|                       4.3|                              0.0|                                         172.0|                    89.0|                           7.0|                        60|\n",
            "|      284539|                                                       8.3|                                                      7.3|                                                        6.8|                                          4.0|                                            3.7|                                         2.7|                                            3.1|                                             11.5|                                           2.7|                  22.35|                        16.51|                      23.0|         19.5|                           13.6|                      43.9|                              0.0|                                         120.0|                    48.0|                           5.0|                        40|\n",
            "|      185767|                                                       7.9|                                                      5.8|                                                        5.3|                                          3.6|                                            3.2|                                         2.1|                                            2.7|                                             11.5|                                           1.9|                 27.019|                        12.88|                      13.5|         72.1|                            2.9|                      11.5|                              0.0|                                         132.0|                    58.0|                           3.0|                        45|\n",
            "|      178700|                                                       7.4|                                                      8.3|                                                        8.4|                                          2.5|                                            2.5|                                         2.0|                                            1.4|                                             10.8|                                           2.2|                  9.625|                         29.3|                       9.2|         30.9|                           26.2|                      33.7|                              0.0|                                         128.0|                   204.0|                           8.0|                        65|\n",
            "|      195236|                                                       5.1|                                                      6.6|                                                        6.6|                                          2.2|                                            2.1|                                         1.7|                                            1.5|                                             10.6|                                           1.9|                 18.008|                        17.77|                      12.2|         43.1|                           34.1|                      10.6|                              0.0|                                         115.0|                   178.0|                           7.0|                        75|\n",
            "|      312437|                                                       4.5|                                                      7.4|                                                        7.3|                                          1.5|                                            1.3|                                         2.2|                                            1.8|                                              9.5|                                           2.4|                 40.049|                         7.94|                      29.9|          3.8|                           58.5|                       7.9|                              0.0|                                          74.0|                    38.0|                           3.0|                        50|\n",
            "|      310406|                                                      10.9|                                                     11.2|                                                       11.1|                                          4.2|                                            3.4|                                         4.6|                                            1.6|                                              7.1|                                           4.8|                 30.088|                         9.17|                      15.9|         23.2|                           56.5|                       4.3|                              0.0|                                         128.0|                   204.0|                           8.0|                        55|\n",
            "|      386761|                                                       9.6|                                                     10.0|                                                        9.8|                                          3.4|                                            2.7|                                         3.8|                                            2.0|                                              8.0|                                           4.1|                 187.73|                         1.86|                      77.1|          1.7|                           21.1|                       0.0|                              0.0|                                          49.0|                    44.0|                           1.0|                        25|\n",
            "|      385833|                                                      16.8|                                                     17.1|                                                       17.0|                                          5.1|                                            4.2|                                         5.4|                                            2.5|                                              7.7|                                           5.7|                 554.27|                         0.51|                      73.3|          1.4|                           23.8|                       1.4|                              0.0|                                          49.0|                    51.0|                           1.0|                        35|\n",
            "|      795833|                                                       9.3|                                                     10.5|                                                       11.4|                                          3.9|                                            4.4|                                         5.3|                                            2.2|                                              7.1|                                           5.8|                159.343|                         1.23|                      68.9|          3.1|                           23.5|                       4.6|                              0.0|                                          40.0|                    87.0|                           3.0|                        30|\n",
            "|      420224|                                                      12.4|                                                     12.2|                                                       20.5|                                          3.3|                                            5.9|                                         3.5|                                            4.3|                                              2.7|                                           8.8|               1044.454|                         0.41|                      69.4|          3.9|                           16.9|                       9.7|                              0.0|                                         100.0|                   154.0|                           4.0|                        40|\n",
            "|      594727|                                                       9.7|                                                      8.7|                                                       13.1|                                          4.0|                                            6.2|                                         4.7|                                            4.7|                                              4.2|                                           7.6|                 51.923|                         4.93|                      85.9|          4.3|                            9.0|                       0.8|                              0.0|                                         128.0|                   204.0|                           8.0|                        20|\n",
            "|      533273|                                                      13.3|                                                     12.3|                                                       18.2|                                          3.7|                                            6.9|                                         4.4|                                            3.6|                                              3.0|                                           8.3|                 30.402|                         9.37|                      93.7|          0.7|                            3.5|                       2.1|                              0.0|                                         128.0|                   204.0|                           8.0|                        30|\n",
            "|      575051|                                                      16.5|                                                     15.7|                                                       21.2|                                          4.1|                                            6.9|                                         4.8|                                            4.6|                                              4.0|                                           8.3|                 20.064|                        11.36|                     100.0|          0.0|                            0.0|                       0.0|                              0.0|                                         128.0|                   204.0|                           8.0|                        10|\n",
            "|      472500|                                                      15.6|                                                     12.8|                                                       22.9|                                          3.8|                                            4.3|                                         2.8|                                            3.8|                                              5.1|                                           6.8|                147.382|                         1.83|                      55.9|         11.1|                           15.9|                      17.0|                              0.0|                                          47.0|                    91.0|                           1.0|                        15|\n",
            "|      457560|                                                      10.5|                                                      7.3|                                                       18.3|                                          3.6|                                            5.3|                                         2.1|                                            4.4|                                              4.2|                                           7.9|                  37.87|                         6.26|                      46.4|          3.0|                           50.2|                       0.4|                              0.0|                                         128.0|                   204.0|                           8.0|                        15|\n",
            "|      280030|                                                       7.7|                                                      5.2|                                                       15.6|                                          2.7|                                            5.7|                                         1.8|                                            5.0|                                              3.8|                                           8.1|                 28.754|                        15.48|                      17.3|         43.8|                           33.5|                       5.4|                              0.0|                                         156.0|                    96.0|                           2.0|                        40|\n",
            "|      475895|                                                       6.5|                                                      6.1|                                                       13.7|                                          2.4|                                            6.4|                                         2.9|                                            4.8|                                              3.9|                                           8.0|                175.171|                         2.89|                      48.8|         36.0|                           11.7|                       3.6|                              0.0|                                         154.0|                    79.0|                          11.0|                        85|\n",
            "|      415824|                                                       8.1|                                                      6.9|                                                       14.4|                                          2.5|                                            7.0|                                         3.2|                                            3.5|                                              2.5|                                           8.2|                 35.944|                        11.13|                      44.5|         23.0|                           14.0|                      18.5|                              0.0|                                         128.0|                   204.0|                           8.0|                        50|\n",
            "|      163529|                                                       9.2|                                                      9.9|                                                       13.6|                                          3.0|                                            3.9|                                         3.1|                                            3.6|                                              7.7|                                           5.1|                 11.193|                        39.94|                       0.0|         50.8|                            6.7|                      42.5|                              0.0|                                         190.0|                   110.0|                           9.0|                        95|\n",
            "+------------+----------------------------------------------------------+---------------------------------------------------------+-----------------------------------------------------------+---------------------------------------------+-----------------------------------------------+--------------------------------------------+-----------------------------------------------+-------------------------------------------------+----------------------------------------------+-----------------------+-----------------------------+--------------------------+-------------+-------------------------------+--------------------------+---------------------------------+----------------------------------------------+------------------------+------------------------------+--------------------------+\n",
            "only showing top 20 rows\n",
            "\n"
          ]
        }
      ]
    },
    {
      "cell_type": "code",
      "source": [
        "#checking for missing values after median imputation\n",
        "spark = SparkSession.builder.appName(\"CountMissingValues\").getOrCreate()\n",
        "missing_value_counts_na = df_noNA.agg(*[count(col(c)).alias(c) for c in df_noNA.columns])\n",
        "\n",
        "# Show the missing value counts\n",
        "missing_value_counts_na.show()\n",
        "\n",
        "# Sum the counts to get the total count of missing values in the DataFrame\n",
        "total_missing_values_na = sum(missing_value_counts_na.collect()[0])\n",
        "\n",
        "print(\"Total missing values in the DataFrame:\", total_missing_values_na)\n"
      ],
      "metadata": {
        "colab": {
          "base_uri": "https://localhost:8080/"
        },
        "id": "LTY5UzP4sC45",
        "outputId": "4fb6148f-663e-4aeb-968b-17390f0dc685"
      },
      "execution_count": 12,
      "outputs": [
        {
          "output_type": "stream",
          "name": "stdout",
          "text": [
            "+------------+----------------------------------------------------------+---------------------------------------------------------+-----------------------------------------------------------+---------------------------------------------+-----------------------------------------------+--------------------------------------------+-----------------------------------------------+-------------------------------------------------+----------------------------------------------+-----------------------+-----------------------------+--------------------------+-------------+-------------------------------+--------------------------+---------------------------------+----------------------------------------------+------------------------+------------------------------+--------------------------+\n",
            "|House_Prices|Travel_times_(minutes)_to_GP_surgeries_by_public_transport|Travel_times_(minutes)_to_post_office_by_public_transport|Travel_times_(minutes)_to_retail_centre_by_public_transport|Travel_times_(minutes)_to_GP_surgeries_by_car|Travel_times_(minutes)_to_petrol_station_by_car|Travel_times_(minutes)_to_post_office_by_car|Travel_times_(minutes)_to_primary_school_by_car|Travel_times_(minutes)_to_secondary_school_by_car|Travel_times_(minutes)_to_retail_centre_by_car|Land_area_(in_hectares)|Dwellings_per_hectare_(ratio)|Detached_dwellings_(ratio)|Flats_(ratio)|Semi-detached_dwellings_(ratio)|Terraced_dwellings_(ratio)|Dwellings_of_unknown_type_(ratio)|Households_with_single_adult_discounts_(ratio)|Crime_indicators_(ratio)|Employment_deprivation_(ratio)|Comparative_Illness_Factor|\n",
            "+------------+----------------------------------------------------------+---------------------------------------------------------+-----------------------------------------------------------+---------------------------------------------+-----------------------------------------------+--------------------------------------------+-----------------------------------------------+-------------------------------------------------+----------------------------------------------+-----------------------+-----------------------------+--------------------------+-------------+-------------------------------+--------------------------+---------------------------------+----------------------------------------------+------------------------+------------------------------+--------------------------+\n",
            "|        6014|                                                      6014|                                                     6014|                                                       6014|                                         6014|                                           6014|                                        6014|                                           6014|                                             6014|                                          6014|                   6014|                         6014|                      6014|         6014|                           6014|                      6014|                             6014|                                          6014|                    6014|                          6014|                      6014|\n",
            "+------------+----------------------------------------------------------+---------------------------------------------------------+-----------------------------------------------------------+---------------------------------------------+-----------------------------------------------+--------------------------------------------+-----------------------------------------------+-------------------------------------------------+----------------------------------------------+-----------------------+-----------------------------+--------------------------+-------------+-------------------------------+--------------------------+---------------------------------+----------------------------------------------+------------------------+------------------------------+--------------------------+\n",
            "\n",
            "Total missing values in the DataFrame: 126294\n"
          ]
        }
      ]
    },
    {
      "cell_type": "markdown",
      "source": [
        "EDA using unsupervised machine learning"
      ],
      "metadata": {
        "id": "dDsz6JlHvSR_"
      }
    },
    {
      "cell_type": "code",
      "source": [
        "df_clean=df_noNA"
      ],
      "metadata": {
        "id": "mJGmwa-8xtqE"
      },
      "execution_count": 14,
      "outputs": []
    },
    {
      "cell_type": "code",
      "source": [
        "df_clean.printSchema()"
      ],
      "metadata": {
        "colab": {
          "base_uri": "https://localhost:8080/"
        },
        "id": "S6ppe9kazgx6",
        "outputId": "5e37a277-badf-4d4f-cb51-cda28c197a34"
      },
      "execution_count": 15,
      "outputs": [
        {
          "output_type": "stream",
          "name": "stdout",
          "text": [
            "root\n",
            " |-- House_Prices: integer (nullable = true)\n",
            " |-- Travel_times_(minutes)_to_GP_surgeries_by_public_transport: double (nullable = true)\n",
            " |-- Travel_times_(minutes)_to_post_office_by_public_transport: double (nullable = true)\n",
            " |-- Travel_times_(minutes)_to_retail_centre_by_public_transport: double (nullable = true)\n",
            " |-- Travel_times_(minutes)_to_GP_surgeries_by_car: double (nullable = true)\n",
            " |-- Travel_times_(minutes)_to_petrol_station_by_car: double (nullable = true)\n",
            " |-- Travel_times_(minutes)_to_post_office_by_car: double (nullable = true)\n",
            " |-- Travel_times_(minutes)_to_primary_school_by_car: double (nullable = true)\n",
            " |-- Travel_times_(minutes)_to_secondary_school_by_car: double (nullable = true)\n",
            " |-- Travel_times_(minutes)_to_retail_centre_by_car: double (nullable = true)\n",
            " |-- Land_area_(in_hectares): double (nullable = true)\n",
            " |-- Dwellings_per_hectare_(ratio): double (nullable = true)\n",
            " |-- Detached_dwellings_(ratio): double (nullable = true)\n",
            " |-- Flats_(ratio): double (nullable = true)\n",
            " |-- Semi-detached_dwellings_(ratio): double (nullable = true)\n",
            " |-- Terraced_dwellings_(ratio): double (nullable = true)\n",
            " |-- Dwellings_of_unknown_type_(ratio): double (nullable = true)\n",
            " |-- Households_with_single_adult_discounts_(ratio): double (nullable = true)\n",
            " |-- Crime_indicators_(ratio): double (nullable = true)\n",
            " |-- Employment_deprivation_(ratio): double (nullable = true)\n",
            " |-- Comparative_Illness_Factor: integer (nullable = true)\n",
            "\n"
          ]
        }
      ]
    },
    {
      "cell_type": "code",
      "source": [
        "#correlation for features against target variable\n",
        "from pyspark.sql.functions import col, corr\n",
        "\n",
        "# Create a SparkSession (the entry point to PySpark)\n",
        "spark = SparkSession.builder.appName(\"Correlation\").getOrCreate()\n",
        "\n",
        "# Select the target variable (column) for which you want to calculate the correlation\n",
        "target_variable = \"House_Prices\"\n",
        "\n",
        "# Calculate the correlation between the target variable and all other features\n",
        "correlation_df = df_clean.select([corr(target_variable, feature).alias(feature) for feature in df_clean.columns if feature != target_variable])\n",
        "\n",
        "# Show the correlation DataFrame\n",
        "correlation_df.show()"
      ],
      "metadata": {
        "colab": {
          "base_uri": "https://localhost:8080/"
        },
        "id": "DBcUvgk_2Apd",
        "outputId": "1ba400ac-f156-4779-ea62-b69a21e8bc5b"
      },
      "execution_count": 16,
      "outputs": [
        {
          "output_type": "stream",
          "name": "stdout",
          "text": [
            "+----------------------------------------------------------+---------------------------------------------------------+-----------------------------------------------------------+---------------------------------------------+-----------------------------------------------+--------------------------------------------+-----------------------------------------------+-------------------------------------------------+----------------------------------------------+-----------------------+-----------------------------+--------------------------+-------------------+-------------------------------+--------------------------+---------------------------------+----------------------------------------------+------------------------+------------------------------+--------------------------+\n",
            "|Travel_times_(minutes)_to_GP_surgeries_by_public_transport|Travel_times_(minutes)_to_post_office_by_public_transport|Travel_times_(minutes)_to_retail_centre_by_public_transport|Travel_times_(minutes)_to_GP_surgeries_by_car|Travel_times_(minutes)_to_petrol_station_by_car|Travel_times_(minutes)_to_post_office_by_car|Travel_times_(minutes)_to_primary_school_by_car|Travel_times_(minutes)_to_secondary_school_by_car|Travel_times_(minutes)_to_retail_centre_by_car|Land_area_(in_hectares)|Dwellings_per_hectare_(ratio)|Detached_dwellings_(ratio)|      Flats_(ratio)|Semi-detached_dwellings_(ratio)|Terraced_dwellings_(ratio)|Dwellings_of_unknown_type_(ratio)|Households_with_single_adult_discounts_(ratio)|Crime_indicators_(ratio)|Employment_deprivation_(ratio)|Comparative_Illness_Factor|\n",
            "+----------------------------------------------------------+---------------------------------------------------------+-----------------------------------------------------------+---------------------------------------------+-----------------------------------------------+--------------------------------------------+-----------------------------------------------+-------------------------------------------------+----------------------------------------------+-----------------------+-----------------------------+--------------------------+-------------------+-------------------------------+--------------------------+---------------------------------+----------------------------------------------+------------------------+------------------------------+--------------------------+\n",
            "|                                       0.18854504112552983|                                       0.2521006918613938|                                        0.10196755632857453|                          0.14545880986970103|                            0.14645311675866957|                         0.23611611159564133|                            0.07589352943506804|                               0.0966072437626396|                          0.047760861562318686|    0.09310512652572552|         -0.15924968775467852|        0.4609450178750696|-0.1923453194087558|           0.025749753792099032|      -0.30704964056872225|             0.019313528204255526|                           -0.3576276246342496|    -0.17066682983984377|           -0.5723627800476159|       -0.5986992211394383|\n",
            "+----------------------------------------------------------+---------------------------------------------------------+-----------------------------------------------------------+---------------------------------------------+-----------------------------------------------+--------------------------------------------+-----------------------------------------------+-------------------------------------------------+----------------------------------------------+-----------------------+-----------------------------+--------------------------+-------------------+-------------------------------+--------------------------+---------------------------------+----------------------------------------------+------------------------+------------------------------+--------------------------+\n",
            "\n"
          ]
        }
      ]
    },
    {
      "cell_type": "code",
      "source": [
        "df_clean.printSchema()"
      ],
      "metadata": {
        "colab": {
          "base_uri": "https://localhost:8080/"
        },
        "id": "3poj-83c53In",
        "outputId": "730793bd-9a6d-4c82-c306-1301300ca6d2"
      },
      "execution_count": 64,
      "outputs": [
        {
          "output_type": "stream",
          "name": "stdout",
          "text": [
            "root\n",
            " |-- House_Prices: integer (nullable = true)\n",
            " |-- Travel_times_(minutes)_to_GP_surgeries_by_public_transport: double (nullable = true)\n",
            " |-- Travel_times_(minutes)_to_post_office_by_public_transport: double (nullable = true)\n",
            " |-- Travel_times_(minutes)_to_retail_centre_by_public_transport: double (nullable = true)\n",
            " |-- Travel_times_(minutes)_to_GP_surgeries_by_car: double (nullable = true)\n",
            " |-- Travel_times_(minutes)_to_petrol_station_by_car: double (nullable = true)\n",
            " |-- Travel_times_(minutes)_to_post_office_by_car: double (nullable = true)\n",
            " |-- Travel_times_(minutes)_to_primary_school_by_car: double (nullable = true)\n",
            " |-- Travel_times_(minutes)_to_secondary_school_by_car: double (nullable = true)\n",
            " |-- Travel_times_(minutes)_to_retail_centre_by_car: double (nullable = true)\n",
            " |-- Land_area_(in_hectares): double (nullable = true)\n",
            " |-- Dwellings_per_hectare_(ratio): double (nullable = true)\n",
            " |-- Detached_dwellings_(ratio): double (nullable = true)\n",
            " |-- Flats_(ratio): double (nullable = true)\n",
            " |-- Semi-detached_dwellings_(ratio): double (nullable = true)\n",
            " |-- Terraced_dwellings_(ratio): double (nullable = true)\n",
            " |-- Dwellings_of_unknown_type_(ratio): double (nullable = true)\n",
            " |-- Households_with_single_adult_discounts_(ratio): double (nullable = true)\n",
            " |-- Crime_indicators_(ratio): double (nullable = true)\n",
            " |-- Employment_deprivation_(ratio): double (nullable = true)\n",
            " |-- Comparative_Illness_Factor: integer (nullable = true)\n",
            "\n"
          ]
        }
      ]
    },
    {
      "cell_type": "code",
      "source": [
        "#calculating multicollinearity through VIF to recuce redundancy\n",
        "from pyspark.sql.functions import col, lit, sum as sum_func\n",
        "from pyspark.ml.regression import LinearRegression\n",
        "from pyspark.ml.linalg import DenseVector\n",
        "from pyspark.ml.feature import VectorAssembler\n",
        "\n",
        "# Create a SparkSession (the entry point to PySpark)\n",
        "spark = SparkSession.builder.appName(\"VIF\").getOrCreate()\n",
        "\n",
        "\n",
        "# List of predictor columns for the linear regression model\n",
        "predictor_columns = ['Detached_dwellings_(ratio)', 'Travel_times_(minutes)_to_post_office_by_public_transport',\n",
        "                     'Travel_times_(minutes)_to_post_office_by_car', 'Travel_times_(minutes)_to_GP_surgeries_by_public_transport',\n",
        "                     'Crime_indicators_(ratio)', 'Flats_(ratio)', 'Terraced_dwellings_(ratio)',\n",
        "                     'Households_with_single_adult_discounts_(ratio)', 'Employment_deprivation_(ratio)',\n",
        "                     'Comparative_Illness_Factor','Dwellings_per_hectare_(ratio)']\n",
        "\n",
        "# Assemble features into a single vector column 'features'\n",
        "assembler = VectorAssembler(inputCols=predictor_columns, outputCol='features')\n",
        "data = assembler.transform(df_clean).select(col('House_Prices').alias('target'), 'features')\n",
        "\n",
        "# Fit a linear regression model\n",
        "lr = LinearRegression(featuresCol='features', labelCol='target')\n",
        "model = lr.fit(data)\n",
        "\n",
        "# Function to calculate R-squared for a given feature (predictor)\n",
        "def calculate_r_squared(feature_name):\n",
        "    # Remove the corresponding feature from the features column\n",
        "    data_without_feature = data.select(col('target').alias('target_tmp'), *(col for col in data.columns if col != 'features' or col != feature_name))\n",
        "\n",
        "    # Fit a linear regression model without the selected feature\n",
        "    lr_without_feature = LinearRegression(featuresCol='features', labelCol='target_tmp')\n",
        "    model_without_feature = lr_without_feature.fit(data_without_feature)\n",
        "\n",
        "    # Calculate R-squared for the model without the selected feature\n",
        "    predictions_without_feature = model_without_feature.transform(data_without_feature)\n",
        "    sum_sq_residuals_without_feature = predictions_without_feature.withColumn('residual', col('target_tmp') - col('prediction')) \\\n",
        "                                                                 .select(sum_func(col('residual')**2).alias('sum_sq_residuals_without_feature')) \\\n",
        "                                                                 .collect()[0]['sum_sq_residuals_without_feature']\n",
        "    sum_sq_total_without_feature = predictions_without_feature.withColumn('residual', col('target_tmp') - col('prediction')) \\\n",
        "                                                               .select(sum_func(col('target_tmp')**2).alias('sum_sq_total_without_feature')) \\\n",
        "                                                               .collect()[0]['sum_sq_total_without_feature']\n",
        "    r_squared_without_feature = 1.0 - sum_sq_residuals_without_feature / sum_sq_total_without_feature\n",
        "    return r_squared_without_feature\n",
        "\n",
        "# Calculate VIF for each predictor (feature)\n",
        "vif_values = {}\n",
        "for feature in predictor_columns:\n",
        "    r_squared_without_feature = calculate_r_squared(feature)\n",
        "    vif_values[feature] = 1.0 / (1.0 - r_squared_without_feature)\n",
        "\n",
        "# Print VIF values\n",
        "print(\"Variance Inflation Factor (VIF) values:\")\n",
        "for feature, vif_value in vif_values.items():\n",
        "    print(f\"{feature}: {vif_value}\")"
      ],
      "metadata": {
        "colab": {
          "base_uri": "https://localhost:8080/"
        },
        "id": "vrisYlk37a3H",
        "outputId": "52674cd0-2f7d-4f65-a845-bb0665734c34"
      },
      "execution_count": 17,
      "outputs": [
        {
          "output_type": "stream",
          "name": "stdout",
          "text": [
            "Variance Inflation Factor (VIF) values:\n",
            "Detached_dwellings_(ratio): 7.120578598060252\n",
            "Travel_times_(minutes)_to_post_office_by_public_transport: 7.120578598060252\n",
            "Travel_times_(minutes)_to_post_office_by_car: 7.120578598060252\n",
            "Travel_times_(minutes)_to_GP_surgeries_by_public_transport: 7.120578598060252\n",
            "Crime_indicators_(ratio): 7.120578598060252\n",
            "Flats_(ratio): 7.120578598060252\n",
            "Terraced_dwellings_(ratio): 7.120578598060252\n",
            "Households_with_single_adult_discounts_(ratio): 7.120578598060252\n",
            "Employment_deprivation_(ratio): 7.120578598060252\n",
            "Comparative_Illness_Factor: 7.120578598060252\n",
            "Dwellings_per_hectare_(ratio): 7.120578598060252\n"
          ]
        }
      ]
    },
    {
      "cell_type": "code",
      "source": [
        "final_dataset = df.select(\"House_Prices\", \"Detached_dwellings_(ratio)\", \"Travel_times_(minutes)_to_post_office_by_car\",\"Travel_times_(minutes)_to_GP_surgeries_by_public_transport\",\"Crime_indicators_(ratio)\",\"Dwellings_per_hectare_(ratio)\",\"Flats_(ratio)\",\"Households_with_single_adult_discounts_(ratio)\",\"Employment_deprivation_(ratio)\")"
      ],
      "metadata": {
        "id": "UtTtjIeO8sDX"
      },
      "execution_count": 19,
      "outputs": []
    },
    {
      "cell_type": "markdown",
      "source": [
        "Supervised Learning"
      ],
      "metadata": {
        "id": "SJqP1um2FLNb"
      }
    },
    {
      "cell_type": "code",
      "source": [],
      "metadata": {
        "id": "lqCl_h8EFOac"
      },
      "execution_count": null,
      "outputs": []
    },
    {
      "cell_type": "code",
      "source": [
        "#reading the data\n",
        "df = spark.read.csv('/content/drive/My\\ Drive/DDA/model_mix_data.csv', header = True, inferSchema = True)"
      ],
      "metadata": {
        "id": "jiRVWnFiGzDt"
      },
      "execution_count": null,
      "outputs": []
    },
    {
      "cell_type": "code",
      "source": [
        "print(df.dtypes)"
      ],
      "metadata": {
        "colab": {
          "base_uri": "https://localhost:8080/"
        },
        "id": "DYqVRpRrJ1vx",
        "outputId": "4f506c81-2221-4595-dafe-73cc2090d1a5"
      },
      "execution_count": null,
      "outputs": [
        {
          "output_type": "stream",
          "name": "stdout",
          "text": [
            "[('Price', 'int'), ('Detach_House', 'double'), ('Car_Time', 'double'), ('Public_Trans_Time', 'double'), ('Crime', 'int'), ('Density', 'double'), ('Flats', 'double'), ('Discount', 'int'), ('Emp_Deprivation', 'int'), ('Urban_Rural_Classification', 'int')]\n"
          ]
        }
      ]
    },
    {
      "cell_type": "code",
      "source": [
        "df.printSchema()"
      ],
      "metadata": {
        "colab": {
          "base_uri": "https://localhost:8080/"
        },
        "id": "RwaiZFFxo2ih",
        "outputId": "25782ff8-a8d6-491c-b7f4-862209cd19f7"
      },
      "execution_count": null,
      "outputs": [
        {
          "output_type": "stream",
          "name": "stdout",
          "text": [
            "root\n",
            " |-- Price: integer (nullable = true)\n",
            " |-- Detach_House: double (nullable = true)\n",
            " |-- Car_Time: double (nullable = true)\n",
            " |-- Public_Trans_Time: double (nullable = true)\n",
            " |-- Crime: integer (nullable = true)\n",
            " |-- Density: double (nullable = true)\n",
            " |-- Flats: double (nullable = true)\n",
            " |-- Discount: integer (nullable = true)\n",
            " |-- Emp_Deprivation: integer (nullable = true)\n",
            " |-- Urban_Rural_Classification: integer (nullable = true)\n",
            "\n"
          ]
        }
      ]
    },
    {
      "cell_type": "code",
      "source": [
        "import pandas as pd\n",
        "pd.DataFrame(df.take(5), columns = df.columns)"
      ],
      "metadata": {
        "id": "0ZyrYUhX3ZMH",
        "colab": {
          "base_uri": "https://localhost:8080/",
          "height": 206
        },
        "outputId": "3cabc0f4-9b14-49e5-9527-687fb929fac4"
      },
      "execution_count": null,
      "outputs": [
        {
          "output_type": "execute_result",
          "data": {
            "text/plain": [
              "    Price  Detach_House  Car_Time  Public_Trans_Time  Crime  Density  Flats  \\\n",
              "0  215003          26.2       1.5                8.4     89     1.05   58.4   \n",
              "1  284539          23.0       2.7                8.3     48    16.51   19.5   \n",
              "2  185767          13.5       2.1                7.9     58    12.88   72.1   \n",
              "3  178700           9.2       2.0                7.4    204    29.30   30.9   \n",
              "4  195236          12.2       1.7                5.1    178    17.77   43.1   \n",
              "\n",
              "   Discount  Emp_Deprivation  Urban_Rural_Classification  \n",
              "0       172                7                           3  \n",
              "1       120                5                           3  \n",
              "2       132                3                           3  \n",
              "3       128                8                           3  \n",
              "4       115                7                           3  "
            ],
            "text/html": [
              "\n",
              "  <div id=\"df-8f37461c-c7e2-49c7-922f-881d9214902c\">\n",
              "    <div class=\"colab-df-container\">\n",
              "      <div>\n",
              "<style scoped>\n",
              "    .dataframe tbody tr th:only-of-type {\n",
              "        vertical-align: middle;\n",
              "    }\n",
              "\n",
              "    .dataframe tbody tr th {\n",
              "        vertical-align: top;\n",
              "    }\n",
              "\n",
              "    .dataframe thead th {\n",
              "        text-align: right;\n",
              "    }\n",
              "</style>\n",
              "<table border=\"1\" class=\"dataframe\">\n",
              "  <thead>\n",
              "    <tr style=\"text-align: right;\">\n",
              "      <th></th>\n",
              "      <th>Price</th>\n",
              "      <th>Detach_House</th>\n",
              "      <th>Car_Time</th>\n",
              "      <th>Public_Trans_Time</th>\n",
              "      <th>Crime</th>\n",
              "      <th>Density</th>\n",
              "      <th>Flats</th>\n",
              "      <th>Discount</th>\n",
              "      <th>Emp_Deprivation</th>\n",
              "      <th>Urban_Rural_Classification</th>\n",
              "    </tr>\n",
              "  </thead>\n",
              "  <tbody>\n",
              "    <tr>\n",
              "      <th>0</th>\n",
              "      <td>215003</td>\n",
              "      <td>26.2</td>\n",
              "      <td>1.5</td>\n",
              "      <td>8.4</td>\n",
              "      <td>89</td>\n",
              "      <td>1.05</td>\n",
              "      <td>58.4</td>\n",
              "      <td>172</td>\n",
              "      <td>7</td>\n",
              "      <td>3</td>\n",
              "    </tr>\n",
              "    <tr>\n",
              "      <th>1</th>\n",
              "      <td>284539</td>\n",
              "      <td>23.0</td>\n",
              "      <td>2.7</td>\n",
              "      <td>8.3</td>\n",
              "      <td>48</td>\n",
              "      <td>16.51</td>\n",
              "      <td>19.5</td>\n",
              "      <td>120</td>\n",
              "      <td>5</td>\n",
              "      <td>3</td>\n",
              "    </tr>\n",
              "    <tr>\n",
              "      <th>2</th>\n",
              "      <td>185767</td>\n",
              "      <td>13.5</td>\n",
              "      <td>2.1</td>\n",
              "      <td>7.9</td>\n",
              "      <td>58</td>\n",
              "      <td>12.88</td>\n",
              "      <td>72.1</td>\n",
              "      <td>132</td>\n",
              "      <td>3</td>\n",
              "      <td>3</td>\n",
              "    </tr>\n",
              "    <tr>\n",
              "      <th>3</th>\n",
              "      <td>178700</td>\n",
              "      <td>9.2</td>\n",
              "      <td>2.0</td>\n",
              "      <td>7.4</td>\n",
              "      <td>204</td>\n",
              "      <td>29.30</td>\n",
              "      <td>30.9</td>\n",
              "      <td>128</td>\n",
              "      <td>8</td>\n",
              "      <td>3</td>\n",
              "    </tr>\n",
              "    <tr>\n",
              "      <th>4</th>\n",
              "      <td>195236</td>\n",
              "      <td>12.2</td>\n",
              "      <td>1.7</td>\n",
              "      <td>5.1</td>\n",
              "      <td>178</td>\n",
              "      <td>17.77</td>\n",
              "      <td>43.1</td>\n",
              "      <td>115</td>\n",
              "      <td>7</td>\n",
              "      <td>3</td>\n",
              "    </tr>\n",
              "  </tbody>\n",
              "</table>\n",
              "</div>\n",
              "      <button class=\"colab-df-convert\" onclick=\"convertToInteractive('df-8f37461c-c7e2-49c7-922f-881d9214902c')\"\n",
              "              title=\"Convert this dataframe to an interactive table.\"\n",
              "              style=\"display:none;\">\n",
              "        \n",
              "  <svg xmlns=\"http://www.w3.org/2000/svg\" height=\"24px\"viewBox=\"0 0 24 24\"\n",
              "       width=\"24px\">\n",
              "    <path d=\"M0 0h24v24H0V0z\" fill=\"none\"/>\n",
              "    <path d=\"M18.56 5.44l.94 2.06.94-2.06 2.06-.94-2.06-.94-.94-2.06-.94 2.06-2.06.94zm-11 1L8.5 8.5l.94-2.06 2.06-.94-2.06-.94L8.5 2.5l-.94 2.06-2.06.94zm10 10l.94 2.06.94-2.06 2.06-.94-2.06-.94-.94-2.06-.94 2.06-2.06.94z\"/><path d=\"M17.41 7.96l-1.37-1.37c-.4-.4-.92-.59-1.43-.59-.52 0-1.04.2-1.43.59L10.3 9.45l-7.72 7.72c-.78.78-.78 2.05 0 2.83L4 21.41c.39.39.9.59 1.41.59.51 0 1.02-.2 1.41-.59l7.78-7.78 2.81-2.81c.8-.78.8-2.07 0-2.86zM5.41 20L4 18.59l7.72-7.72 1.47 1.35L5.41 20z\"/>\n",
              "  </svg>\n",
              "      </button>\n",
              "      \n",
              "  <style>\n",
              "    .colab-df-container {\n",
              "      display:flex;\n",
              "      flex-wrap:wrap;\n",
              "      gap: 12px;\n",
              "    }\n",
              "\n",
              "    .colab-df-convert {\n",
              "      background-color: #E8F0FE;\n",
              "      border: none;\n",
              "      border-radius: 50%;\n",
              "      cursor: pointer;\n",
              "      display: none;\n",
              "      fill: #1967D2;\n",
              "      height: 32px;\n",
              "      padding: 0 0 0 0;\n",
              "      width: 32px;\n",
              "    }\n",
              "\n",
              "    .colab-df-convert:hover {\n",
              "      background-color: #E2EBFA;\n",
              "      box-shadow: 0px 1px 2px rgba(60, 64, 67, 0.3), 0px 1px 3px 1px rgba(60, 64, 67, 0.15);\n",
              "      fill: #174EA6;\n",
              "    }\n",
              "\n",
              "    [theme=dark] .colab-df-convert {\n",
              "      background-color: #3B4455;\n",
              "      fill: #D2E3FC;\n",
              "    }\n",
              "\n",
              "    [theme=dark] .colab-df-convert:hover {\n",
              "      background-color: #434B5C;\n",
              "      box-shadow: 0px 1px 3px 1px rgba(0, 0, 0, 0.15);\n",
              "      filter: drop-shadow(0px 1px 2px rgba(0, 0, 0, 0.3));\n",
              "      fill: #FFFFFF;\n",
              "    }\n",
              "  </style>\n",
              "\n",
              "      <script>\n",
              "        const buttonEl =\n",
              "          document.querySelector('#df-8f37461c-c7e2-49c7-922f-881d9214902c button.colab-df-convert');\n",
              "        buttonEl.style.display =\n",
              "          google.colab.kernel.accessAllowed ? 'block' : 'none';\n",
              "\n",
              "        async function convertToInteractive(key) {\n",
              "          const element = document.querySelector('#df-8f37461c-c7e2-49c7-922f-881d9214902c');\n",
              "          const dataTable =\n",
              "            await google.colab.kernel.invokeFunction('convertToInteractive',\n",
              "                                                     [key], {});\n",
              "          if (!dataTable) return;\n",
              "\n",
              "          const docLinkHtml = 'Like what you see? Visit the ' +\n",
              "            '<a target=\"_blank\" href=https://colab.research.google.com/notebooks/data_table.ipynb>data table notebook</a>'\n",
              "            + ' to learn more about interactive tables.';\n",
              "          element.innerHTML = '';\n",
              "          dataTable['output_type'] = 'display_data';\n",
              "          await google.colab.output.renderOutput(dataTable, element);\n",
              "          const docLink = document.createElement('div');\n",
              "          docLink.innerHTML = docLinkHtml;\n",
              "          element.appendChild(docLink);\n",
              "        }\n",
              "      </script>\n",
              "    </div>\n",
              "  </div>\n",
              "  "
            ]
          },
          "metadata": {},
          "execution_count": 130
        }
      ]
    },
    {
      "cell_type": "code",
      "source": [
        "from pyspark.ml.feature import StringIndexer, OneHotEncoder\n",
        "\n",
        "# instantiate a StringIndexer to convert the \"number\" column to categorical values\n",
        "indexer = StringIndexer(inputCol=\"Urban_Rural_Classification\", outputCol=\"number_cat\")\n",
        "\n",
        "# fit the transformer to the data\n",
        "indexed = indexer.fit(df).transform(df)\n",
        "\n",
        "# instantiate a OneHotEncoder to convert the \"number_cat\" column to binary vectors\n",
        "encoder = OneHotEncoder(inputCol=\"number_cat\", outputCol=\"Urban_Rural_Classification_vec\")\n",
        "\n",
        "# fit the transformer to the data\n",
        "df = encoder.fit(indexed).transform(indexed)\n",
        "\n",
        "# show the resulting DataFrame\n",
        "df.show()"
      ],
      "metadata": {
        "id": "K4B8n91lSJvv"
      },
      "execution_count": null,
      "outputs": []
    },
    {
      "cell_type": "code",
      "source": [
        "df = df.drop(\"number_cat\", \"Urban_Rural_Classification\")\n",
        "df.show()"
      ],
      "metadata": {
        "id": "5fsZzNcdTNnx"
      },
      "execution_count": null,
      "outputs": []
    },
    {
      "cell_type": "code",
      "source": [
        "#creating feature columns that have the independent variables\n",
        "\n",
        "feature_cols = [col for col in df.columns if col != \"Price\"]\n",
        "assembler = VectorAssembler(inputCols=feature_cols, outputCol=\"features\")\n",
        "df = assembler.transform(df)"
      ],
      "metadata": {
        "id": "7I4_iDZtXyAH"
      },
      "execution_count": null,
      "outputs": []
    },
    {
      "cell_type": "code",
      "source": [
        "#looking at the idependent variables\n",
        "print(feature_cols)"
      ],
      "metadata": {
        "colab": {
          "base_uri": "https://localhost:8080/"
        },
        "id": "aSuCliXYmmAe",
        "outputId": "d17dd94a-9403-4667-a031-ccd861883e91"
      },
      "execution_count": null,
      "outputs": [
        {
          "output_type": "stream",
          "name": "stdout",
          "text": [
            "['Detach_House', 'Car_Time', 'Public_Trans_Time', 'Crime', 'Density', 'Flats', 'Discount', 'Emp_Deprivation', 'Urban_Rural_Classification_vec']\n"
          ]
        }
      ]
    },
    {
      "cell_type": "code",
      "source": [
        "#looking at the dataset with the independent variables converted to features\n",
        "df.show()"
      ],
      "metadata": {
        "id": "IEt8aUcRlSqn"
      },
      "execution_count": null,
      "outputs": []
    },
    {
      "cell_type": "code",
      "source": [
        "print(feature_cols)\n",
        "print(assembler)"
      ],
      "metadata": {
        "colab": {
          "base_uri": "https://localhost:8080/"
        },
        "id": "iHCUkWypj_RB",
        "outputId": "a64ec264-5e97-453d-c3e8-5c19fb8f4d46"
      },
      "execution_count": null,
      "outputs": [
        {
          "output_type": "stream",
          "name": "stdout",
          "text": [
            "['Detach_House', 'Car_Time', 'Public_Trans_Time', 'Crime', 'Density', 'Flats', 'Discount', 'Emp_Deprivation', 'Urban_Rural_Classification_vec']\n",
            "VectorAssembler_6d163abae960\n"
          ]
        }
      ]
    },
    {
      "cell_type": "code",
      "source": [
        "#independent variables  indexing\n",
        "featureIndexer =\\\n",
        "    VectorIndexer(inputCol=\"features\", outputCol=\"indexedFeatures\").fit(df)"
      ],
      "metadata": {
        "id": "qd0xO9b-ohoV"
      },
      "execution_count": null,
      "outputs": []
    },
    {
      "cell_type": "code",
      "source": [
        "#creating a train and test dataset\n",
        "(trainingData, testData) = df.randomSplit([0.7, 0.3])"
      ],
      "metadata": {
        "id": "0Ag67NeOoua7"
      },
      "execution_count": null,
      "outputs": []
    },
    {
      "cell_type": "code",
      "source": [
        "#Training the decision tree model\n",
        "dt = DecisionTreeRegressor(featuresCol=\"indexedFeatures\")"
      ],
      "metadata": {
        "id": "VgsACA2DJXwr"
      },
      "execution_count": null,
      "outputs": []
    },
    {
      "cell_type": "code",
      "source": [
        "pipeline = Pipeline(stages=[featureIndexer, dt])"
      ],
      "metadata": {
        "id": "EwRuMIwSpD5A"
      },
      "execution_count": null,
      "outputs": []
    },
    {
      "cell_type": "code",
      "source": [
        "dt.setLabelCol(\"Price\")"
      ],
      "metadata": {
        "colab": {
          "base_uri": "https://localhost:8080/"
        },
        "id": "RNuA93reqkyB",
        "outputId": "c42aefbc-f538-4126-e9ba-ee12bc63db45"
      },
      "execution_count": null,
      "outputs": [
        {
          "output_type": "execute_result",
          "data": {
            "text/plain": [
              "DecisionTreeRegressor_e13b5613b90a"
            ]
          },
          "metadata": {},
          "execution_count": 20
        }
      ]
    },
    {
      "cell_type": "code",
      "source": [
        "model = pipeline.fit(trainingData)"
      ],
      "metadata": {
        "id": "kaNK86EmpHMo"
      },
      "execution_count": null,
      "outputs": []
    },
    {
      "cell_type": "code",
      "source": [
        "# Make predictions.\n",
        "predictions_dt = model.transform(testData)"
      ],
      "metadata": {
        "id": "AIvmcJCBqsoR"
      },
      "execution_count": null,
      "outputs": []
    },
    {
      "cell_type": "code",
      "source": [
        "# Select example rows to display.\n",
        "predictions_dt.select(\"prediction\", \"Price\", \"features\").show(5)"
      ],
      "metadata": {
        "colab": {
          "base_uri": "https://localhost:8080/"
        },
        "id": "2iQlOufRqvJd",
        "outputId": "db06fa4f-b148-4133-e65b-aa568e7314a6"
      },
      "execution_count": null,
      "outputs": [
        {
          "output_type": "stream",
          "name": "stdout",
          "text": [
            "+-----------------+-----+--------------------+\n",
            "|       prediction|Price|            features|\n",
            "+-----------------+-----+--------------------+\n",
            "|77988.89003436426|20604|[0.3,3.2,11.7,880...|\n",
            "|88255.04526748971|29536|[0.7,2.7,9.8,607....|\n",
            "|88255.04526748971|30730|[0.4,1.0,4.1,613....|\n",
            "|88255.04526748971|34918|[0.0,1.3,4.0,847....|\n",
            "|77988.89003436426|35500|[1.4,0.9,5.1,1617...|\n",
            "+-----------------+-----+--------------------+\n",
            "only showing top 5 rows\n",
            "\n"
          ]
        }
      ]
    },
    {
      "cell_type": "code",
      "source": [
        "# Select (prediction, true label) and compute test error\n",
        "evaluator = RegressionEvaluator(\n",
        "    labelCol=\"Price\", predictionCol=\"prediction\", metricName=\"rmse\")\n",
        "rmse = evaluator.evaluate(predictions_dt)\n",
        "print(\"Root Mean Squared Error (RMSE) on test data = %g\" % rmse)"
      ],
      "metadata": {
        "colab": {
          "base_uri": "https://localhost:8080/"
        },
        "id": "qlpRXGnaq87S",
        "outputId": "26f4b7b1-830d-48e6-84d4-4d1c988bd394"
      },
      "execution_count": null,
      "outputs": [
        {
          "output_type": "stream",
          "name": "stdout",
          "text": [
            "Root Mean Squared Error (RMSE) on test data = 73044.4\n"
          ]
        }
      ]
    },
    {
      "cell_type": "code",
      "source": [
        "evaluator_r2 = RegressionEvaluator(labelCol=\"Price\", predictionCol=\"prediction\", metricName=\"r2\")\n",
        "r2_dt = evaluator_r2.evaluate(predictions_dt)\n",
        "print(\"R-squared (coefficient of determination) decision tree = %f\" % r2_dt)"
      ],
      "metadata": {
        "colab": {
          "base_uri": "https://localhost:8080/"
        },
        "id": "WVXa5KR3y7d1",
        "outputId": "d2e8d02a-6853-4d90-f87f-6b9c2c915761"
      },
      "execution_count": null,
      "outputs": [
        {
          "output_type": "stream",
          "name": "stdout",
          "text": [
            "R-squared (coefficient of determination) decision tree = 0.429026\n"
          ]
        }
      ]
    },
    {
      "cell_type": "code",
      "source": [
        "evaluator_mae = RegressionEvaluator(labelCol=\"Price\", predictionCol=\"prediction\", metricName=\"mae\")\n",
        "mae_dt = evaluator_mae.evaluate(predictions_dt)\n",
        "print(\"MAE Decision Tree = %f\" % mae_dt)"
      ],
      "metadata": {
        "colab": {
          "base_uri": "https://localhost:8080/"
        },
        "id": "viKpETo01JWN",
        "outputId": "d769fabd-95c4-4406-a1a3-5fd2d6e14811"
      },
      "execution_count": null,
      "outputs": [
        {
          "output_type": "stream",
          "name": "stdout",
          "text": [
            "MAE Decision Tree = 44030.929875\n"
          ]
        }
      ]
    },
    {
      "cell_type": "code",
      "source": [
        "treeModel = model.stages[1]"
      ],
      "metadata": {
        "id": "weY5wBaqeLdk"
      },
      "execution_count": null,
      "outputs": []
    },
    {
      "cell_type": "code",
      "source": [
        "# summary only\n",
        "print(treeModel)"
      ],
      "metadata": {
        "colab": {
          "base_uri": "https://localhost:8080/"
        },
        "id": "Cp1RWL6RrFcM",
        "outputId": "3a0fffc2-15be-4703-966a-f27d6d4ea447"
      },
      "execution_count": null,
      "outputs": [
        {
          "output_type": "stream",
          "name": "stdout",
          "text": [
            "DecisionTreeRegressionModel: uid=DecisionTreeRegressor_e13b5613b90a, depth=5, numNodes=61, numFeatures=13\n"
          ]
        }
      ]
    },
    {
      "cell_type": "code",
      "source": [
        "---------------------------------"
      ],
      "metadata": {
        "id": "IIHkHXBZId-x"
      },
      "execution_count": null,
      "outputs": []
    },
    {
      "cell_type": "code",
      "source": [
        "#RANDOM FOREST"
      ],
      "metadata": {
        "id": "f7T_ztJArLZ5"
      },
      "execution_count": null,
      "outputs": []
    },
    {
      "cell_type": "code",
      "source": [
        "from pyspark.ml import Pipeline\n",
        "from pyspark.ml.regression import RandomForestRegressor\n",
        "from pyspark.ml.feature import VectorIndexer\n",
        "from pyspark.ml.evaluation import RegressionEvaluator"
      ],
      "metadata": {
        "id": "1cCmtR2ErNdf"
      },
      "execution_count": null,
      "outputs": []
    },
    {
      "cell_type": "code",
      "source": [
        "# Load and parse the data file, converting it to a DataFrame.\n",
        "\n",
        "# Automatically identify categorical features, and index them.\n",
        "# Set maxCategories so features with > 4 distinct values are treated as continuous.\n",
        "featureIndexer_rf =\\\n",
        "    VectorIndexer(inputCol=\"features\", outputCol=\"indexedFeatures\", maxCategories=4).fit(df)\n",
        "\n",
        "# Split the data into training and test sets (30% held out for testing)\n",
        "(trainingData_rf, testData_rf) = df.randomSplit([0.7, 0.3])"
      ],
      "metadata": {
        "id": "4xsUHuIutnZr"
      },
      "execution_count": null,
      "outputs": []
    },
    {
      "cell_type": "code",
      "source": [
        "# Train a RandomForest model.\n",
        "rf = RandomForestRegressor(featuresCol=\"indexedFeatures\")"
      ],
      "metadata": {
        "id": "IWrBSReOsexG"
      },
      "execution_count": null,
      "outputs": []
    },
    {
      "cell_type": "code",
      "source": [
        "# Chain indexer and forest in a Pipeline\n",
        "pipeline_rf = Pipeline(stages=[featureIndexer, rf])"
      ],
      "metadata": {
        "id": "dwytIpEussks"
      },
      "execution_count": null,
      "outputs": []
    },
    {
      "cell_type": "code",
      "source": [
        "rf.setLabelCol(\"Price\")"
      ],
      "metadata": {
        "colab": {
          "base_uri": "https://localhost:8080/"
        },
        "id": "Cj--_GDDs33T",
        "outputId": "eec76ac0-5c9a-48dc-cbdf-fb9f3ffeb1f1"
      },
      "execution_count": null,
      "outputs": [
        {
          "output_type": "execute_result",
          "data": {
            "text/plain": [
              "RandomForestRegressor_2d0035ce4da2"
            ]
          },
          "metadata": {},
          "execution_count": 154
        }
      ]
    },
    {
      "cell_type": "code",
      "source": [
        "# Train model.  This also runs the indexer.\n",
        "model_rf = pipeline_rf.fit(trainingData_rf)"
      ],
      "metadata": {
        "id": "vKEd-yY4syIQ"
      },
      "execution_count": null,
      "outputs": []
    },
    {
      "cell_type": "code",
      "source": [
        "# Make predictions.\n",
        "predictions_rf = model_rf.transform(testData_rf)"
      ],
      "metadata": {
        "id": "DTQRE5m9s94h"
      },
      "execution_count": null,
      "outputs": []
    },
    {
      "cell_type": "code",
      "source": [
        "print(predictions_rf)"
      ],
      "metadata": {
        "id": "pB910p_LxEkk"
      },
      "execution_count": null,
      "outputs": []
    },
    {
      "cell_type": "code",
      "source": [
        "# Select example rows to display.\n",
        "predictions_rf.select(\"prediction\", \"Price\", \"features\").show(5)"
      ],
      "metadata": {
        "colab": {
          "base_uri": "https://localhost:8080/"
        },
        "id": "XCL6HXM9tBO_",
        "outputId": "14adf677-c148-45c2-98a9-509e8ea46f35"
      },
      "execution_count": null,
      "outputs": [
        {
          "output_type": "stream",
          "name": "stdout",
          "text": [
            "+------------------+-----+--------------------+\n",
            "|        prediction|Price|            features|\n",
            "+------------------+-----+--------------------+\n",
            "| 91144.13480819222|24111|[5.6,2.0,10.7,149...|\n",
            "|103697.94627334944|30730|[0.4,1.0,4.1,613....|\n",
            "| 88331.01771039361|31092|[0.2,1.9,14.8,489...|\n",
            "| 82641.40991521737|31850|[0.8,2.1,10.8,111...|\n",
            "| 94865.85974449184|34120|[0.3,2.4,20.5,270...|\n",
            "+------------------+-----+--------------------+\n",
            "only showing top 5 rows\n",
            "\n"
          ]
        }
      ]
    },
    {
      "cell_type": "code",
      "source": [
        "# Select (prediction, true label) and compute test error\n",
        "evaluator_rf = RegressionEvaluator(\n",
        "    labelCol=\"Price\", predictionCol=\"prediction\", metricName=\"rmse\")\n",
        "rmse_rf = evaluator_rf.evaluate(predictions_rf)\n",
        "print(\"Root Mean Squared Error (RMSE) on test data = %g\" % rmse_rf)"
      ],
      "metadata": {
        "colab": {
          "base_uri": "https://localhost:8080/"
        },
        "id": "e6-qrJRutVgR",
        "outputId": "82df615d-0c5f-4033-febe-f7cb28cfb10f"
      },
      "execution_count": null,
      "outputs": [
        {
          "output_type": "stream",
          "name": "stdout",
          "text": [
            "Root Mean Squared Error (RMSE) on test data = 65778.8\n"
          ]
        }
      ]
    },
    {
      "cell_type": "code",
      "source": [
        "evaluator_r2 = RegressionEvaluator(labelCol=\"Price\", predictionCol=\"prediction\", metricName=\"r2\")\n",
        "r2_rf = evaluator_r2.evaluate(predictions_rf)\n",
        "print(\"R-squared (coefficient of determination) Random Forest = %f\" % r2_rf)"
      ],
      "metadata": {
        "colab": {
          "base_uri": "https://localhost:8080/"
        },
        "id": "Pd0qvDqqvD3j",
        "outputId": "257d3934-ad94-4f1a-8683-b499e926e590"
      },
      "execution_count": null,
      "outputs": [
        {
          "output_type": "stream",
          "name": "stdout",
          "text": [
            "R-squared (coefficient of determination) Random Forest = 0.488604\n"
          ]
        }
      ]
    },
    {
      "cell_type": "code",
      "source": [
        "evaluator_mae = RegressionEvaluator(labelCol=\"Price\", predictionCol=\"prediction\", metricName=\"mae\")\n",
        "mae_rf = evaluator_mae.evaluate(predictions_rf)\n",
        "print(\"MAE Random Forest = %f\" % mae_rf)\n"
      ],
      "metadata": {
        "colab": {
          "base_uri": "https://localhost:8080/"
        },
        "id": "6yjxQLDw0j9P",
        "outputId": "78066157-f7e4-4128-f9ab-471854138d0e"
      },
      "execution_count": null,
      "outputs": [
        {
          "output_type": "stream",
          "name": "stdout",
          "text": [
            "MAE Random Forest = 44149.467546\n"
          ]
        }
      ]
    },
    {
      "cell_type": "code",
      "source": [
        "# Make predictions on the testing data\n",
        "predictions = model.transform(testData_rf)\n",
        "\n",
        "# Show sample predictions\n",
        "predictions.select('Price', 'prediction').show()\n",
        "\n",
        "# Evaluate the model (for regression problems)\n",
        "evaluator = RegressionEvaluator(labelCol='Price', predictionCol='prediction', metricName='rmse')\n",
        "rmse = evaluator.evaluate(predictions)\n",
        "print(f\"Root Mean Squared Error (RMSE): {rmse}\")"
      ],
      "metadata": {
        "colab": {
          "base_uri": "https://localhost:8080/",
          "height": 242
        },
        "id": "d9mdn0LyHLBa",
        "outputId": "3e9c288b-f087-44a2-eed8-68d63a979929"
      },
      "execution_count": 28,
      "outputs": [
        {
          "output_type": "error",
          "ename": "NameError",
          "evalue": "ignored",
          "traceback": [
            "\u001b[0;31m---------------------------------------------------------------------------\u001b[0m",
            "\u001b[0;31mNameError\u001b[0m                                 Traceback (most recent call last)",
            "\u001b[0;32m<ipython-input-28-c33986ff44b7>\u001b[0m in \u001b[0;36m<cell line: 2>\u001b[0;34m()\u001b[0m\n\u001b[1;32m      1\u001b[0m \u001b[0;31m# Make predictions on the testing data\u001b[0m\u001b[0;34m\u001b[0m\u001b[0;34m\u001b[0m\u001b[0m\n\u001b[0;32m----> 2\u001b[0;31m \u001b[0mpredictions\u001b[0m \u001b[0;34m=\u001b[0m \u001b[0mmodel\u001b[0m\u001b[0;34m.\u001b[0m\u001b[0mtransform\u001b[0m\u001b[0;34m(\u001b[0m\u001b[0mtestData_rf\u001b[0m\u001b[0;34m)\u001b[0m\u001b[0;34m\u001b[0m\u001b[0;34m\u001b[0m\u001b[0m\n\u001b[0m\u001b[1;32m      3\u001b[0m \u001b[0;34m\u001b[0m\u001b[0m\n\u001b[1;32m      4\u001b[0m \u001b[0;31m# Show sample predictions\u001b[0m\u001b[0;34m\u001b[0m\u001b[0;34m\u001b[0m\u001b[0m\n\u001b[1;32m      5\u001b[0m \u001b[0mpredictions\u001b[0m\u001b[0;34m.\u001b[0m\u001b[0mselect\u001b[0m\u001b[0;34m(\u001b[0m\u001b[0;34m'Price'\u001b[0m\u001b[0;34m,\u001b[0m \u001b[0;34m'prediction'\u001b[0m\u001b[0;34m)\u001b[0m\u001b[0;34m.\u001b[0m\u001b[0mshow\u001b[0m\u001b[0;34m(\u001b[0m\u001b[0;34m)\u001b[0m\u001b[0;34m\u001b[0m\u001b[0;34m\u001b[0m\u001b[0m\n",
            "\u001b[0;31mNameError\u001b[0m: name 'testData_rf' is not defined"
          ]
        }
      ]
    }
  ]
}